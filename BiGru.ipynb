{
  "nbformat": 4,
  "nbformat_minor": 0,
  "metadata": {
    "colab": {
      "name": "BiGru.ipynb",
      "provenance": []
    },
    "kernelspec": {
      "display_name": "Python 3",
      "name": "python3"
    },
    "language_info": {
      "name": "python"
    },
    "accelerator": "GPU"
  },
  "cells": [
    {
      "cell_type": "code",
      "metadata": {
        "colab": {
          "base_uri": "https://localhost:8080/",
          "height": 52
        },
        "id": "QARKqEb1l3K_",
        "outputId": "77bdf377-d66e-4849-a4c1-bb9a1bf5bffc"
      },
      "source": [
        "\n",
        "from google.colab import drive\n",
        "drive.mount('/content/drive',force_remount=True)\n",
        "import tensorflow as tf\n",
        "tf.test.gpu_device_name()"
      ],
      "execution_count": 1,
      "outputs": [
        {
          "output_type": "stream",
          "text": [
            "Mounted at /content/drive\n"
          ],
          "name": "stdout"
        },
        {
          "output_type": "execute_result",
          "data": {
            "application/vnd.google.colaboratory.intrinsic+json": {
              "type": "string"
            },
            "text/plain": [
              "'/device:GPU:0'"
            ]
          },
          "metadata": {
            "tags": []
          },
          "execution_count": 1
        }
      ]
    },
    {
      "cell_type": "code",
      "metadata": {
        "id": "HjzfcQoJmTsw"
      },
      "source": [
        "#import packages\n",
        "\n",
        "import matplotlib.pyplot as plt\n",
        "from sklearn.model_selection import train_test_split\n",
        "import seaborn as sn\n",
        "%matplotlib inline\n",
        "import re\n",
        "import sys\n",
        "import warnings\n",
        "import pandas as pd\n",
        "import numpy as np\n",
        "from nltk.stem.porter import PorterStemmer\n",
        "from nltk.stem import WordNetLemmatizer\n",
        "import matplotlib.pyplot as plt\n",
        "from gensim.models import Word2Vec\n",
        "from sklearn.linear_model import SGDClassifier\n",
        "from sklearn.tree import DecisionTreeClassifier\n",
        "from sklearn.model_selection import StratifiedKFold\n",
        "from sklearn.model_selection import train_test_split\n",
        "from sklearn.feature_extraction.text import TfidfVectorizer,CountVectorizer\n",
        "from sklearn.naive_bayes import MultinomialNB\n",
        "from xgboost import XGBClassifier\n",
        "from sklearn.multiclass import OneVsRestClassifier\n",
        "from nltk.corpus import stopwords\n",
        "from nltk import pos_tag\n",
        "from nltk.corpus import wordnet\n",
        "from sklearn.metrics import accuracy_score\n",
        "from sklearn.svm import LinearSVC\n",
        "from sklearn.metrics import classification_report, confusion_matrix\n",
        "from sklearn.linear_model import LogisticRegression\n",
        "from sklearn.pipeline import Pipeline\n",
        "warnings.filterwarnings(\"ignore\")\n",
        "\n",
        "from sklearn.model_selection import GridSearchCV\n",
        "from sklearn.ensemble import RandomForestClassifier\n",
        "from sklearn import svm\n",
        "from sklearn.feature_extraction.text import CountVectorizer\n",
        "from sklearn.feature_extraction.text import TfidfTransformer\n",
        "import joblib"
      ],
      "execution_count": 2,
      "outputs": []
    },
    {
      "cell_type": "code",
      "metadata": {
        "id": "O8NIMsromOd-"
      },
      "source": [
        "#needed for DNN \n",
        "import tensorflow as tf\n",
        "from tensorflow import keras\n",
        "from tensorflow.keras import regularizers\n",
        "from keras.regularizers import l2,l1\n",
        "from keras.layers import Dropout\n",
        "from keras.optimizers import Adam,RMSprop\n",
        "from tensorflow.keras.preprocessing.sequence import pad_sequences\n",
        "from keras import models\n",
        "from sklearn import preprocessing\n",
        "from keras import layers\n",
        "from tensorflow.keras.layers import LSTM,GRU\n",
        "from tensorflow.keras.models import load_model\n",
        "from sklearn.metrics import confusion_matrix\n",
        "from sklearn.metrics import classification_report \n",
        "from sklearn.model_selection import train_test_split\n",
        "from sklearn.metrics import accuracy_score,precision_score,recall_score,f1_score,roc_auc_score\n",
        "from sklearn.metrics import average_precision_score,roc_auc_score, roc_curve, precision_recall_curve\n",
        "from sklearn.preprocessing import LabelEncoder\n",
        "from tensorflow.keras.preprocessing.text import Tokenizer"
      ],
      "execution_count": 3,
      "outputs": []
    },
    {
      "cell_type": "code",
      "metadata": {
        "colab": {
          "base_uri": "https://localhost:8080/",
          "height": 289
        },
        "id": "zqcfFmNHmhdL",
        "outputId": "2af06383-1f95-4b88-8d30-87d92849b037"
      },
      "source": [
        "df=pd.read_csv('/content/drive/MyDrive/Colab Notebooks/multi class bangla sentiment analysis/dataset/bangla_comments_tokenized.csv', encoding='utf-8')\n",
        "df.tail()\n"
      ],
      "execution_count": 4,
      "outputs": [
        {
          "output_type": "execute_result",
          "data": {
            "text/html": [
              "<div>\n",
              "<style scoped>\n",
              "    .dataframe tbody tr th:only-of-type {\n",
              "        vertical-align: middle;\n",
              "    }\n",
              "\n",
              "    .dataframe tbody tr th {\n",
              "        vertical-align: top;\n",
              "    }\n",
              "\n",
              "    .dataframe thead th {\n",
              "        text-align: right;\n",
              "    }\n",
              "</style>\n",
              "<table border=\"1\" class=\"dataframe\">\n",
              "  <thead>\n",
              "    <tr style=\"text-align: right;\">\n",
              "      <th></th>\n",
              "      <th>label</th>\n",
              "      <th>text</th>\n",
              "      <th>clean_text</th>\n",
              "      <th>tokenized_clean_text</th>\n",
              "      <th>tokenized_stem_text</th>\n",
              "    </tr>\n",
              "  </thead>\n",
              "  <tbody>\n",
              "    <tr>\n",
              "      <th>43996</th>\n",
              "      <td>not bully</td>\n",
              "      <td>হিরো আলম এগা যাও</td>\n",
              "      <td>হিরো আলম এগিয়ে যাও</td>\n",
              "      <td>['হিরো', 'আলম', 'এগিয়ে', 'যাও']</td>\n",
              "      <td>['হিরো', 'আলম', 'এগা', 'যাও']</td>\n",
              "    </tr>\n",
              "    <tr>\n",
              "      <th>43997</th>\n",
              "      <td>not bully</td>\n",
              "      <td>হিরো আলম সাপোর্ট অসংখ্য ধন্যবাদ আপনা</td>\n",
              "      <td>হিরো আলমকে সাপোর্ট অসংখ্য ধন্যবাদ আপনাকে</td>\n",
              "      <td>['হিরো', 'আলমকে', 'সাপোর্ট', 'অসংখ্য', 'ধন্যবা...</td>\n",
              "      <td>['হিরো', 'আলম', 'সাপোর্ট', 'অসংখ্য', 'ধন্যবাদ'...</td>\n",
              "    </tr>\n",
              "    <tr>\n",
              "      <th>43998</th>\n",
              "      <td>not bully</td>\n",
              "      <td>হিরো ভাই এগা য়াও</td>\n",
              "      <td>হিরো ভাই এগিয়ে য়াও</td>\n",
              "      <td>['হিরো', 'ভাই', 'এগিয়ে', 'য়াও']</td>\n",
              "      <td>['হিরো', 'ভাই', 'এগা', 'য়াও']</td>\n",
              "    </tr>\n",
              "    <tr>\n",
              "      <th>43999</th>\n",
              "      <td>not bully</td>\n",
              "      <td>হুম ভাও তোমরা এগা যাও তোমা পিছনে আছি</td>\n",
              "      <td>হুম ভাও তোমরা এগিয়ে যাও তোমাদের পিছনে আছি</td>\n",
              "      <td>['হুম', 'ভাও', 'তোমরা', 'এগিয়ে', 'যাও', 'তোমাদ...</td>\n",
              "      <td>['হুম', 'ভাও', 'তোমরা', 'এগা', 'যাও', 'তোমা', ...</td>\n",
              "    </tr>\n",
              "    <tr>\n",
              "      <th>44000</th>\n",
              "      <td>not bully</td>\n",
              "      <td>হ্যালো তোমা সাথে আমা চ্যাট করবে</td>\n",
              "      <td>হ্যালো তোমাদের সাথে আমা চ্যাট করবে</td>\n",
              "      <td>['হ্যালো', 'তোমাদের', 'সাথে', 'আমা', 'চ্যাট', ...</td>\n",
              "      <td>['হ্যালো', 'তোমা', 'সাথে', 'আমা', 'চ্যাট', 'কর...</td>\n",
              "    </tr>\n",
              "  </tbody>\n",
              "</table>\n",
              "</div>"
            ],
            "text/plain": [
              "           label  ...                                tokenized_stem_text\n",
              "43996  not bully  ...                      ['হিরো', 'আলম', 'এগা', 'যাও']\n",
              "43997  not bully  ...  ['হিরো', 'আলম', 'সাপোর্ট', 'অসংখ্য', 'ধন্যবাদ'...\n",
              "43998  not bully  ...                      ['হিরো', 'ভাই', 'এগা', 'য়াও']\n",
              "43999  not bully  ...  ['হুম', 'ভাও', 'তোমরা', 'এগা', 'যাও', 'তোমা', ...\n",
              "44000  not bully  ...  ['হ্যালো', 'তোমা', 'সাথে', 'আমা', 'চ্যাট', 'কর...\n",
              "\n",
              "[5 rows x 5 columns]"
            ]
          },
          "metadata": {
            "tags": []
          },
          "execution_count": 4
        }
      ]
    },
    {
      "cell_type": "code",
      "metadata": {
        "id": "wC5FNCJ6miks"
      },
      "source": [
        "df['label'] = df['label'].replace({'not bully':'acceptable'})"
      ],
      "execution_count": 5,
      "outputs": []
    },
    {
      "cell_type": "code",
      "metadata": {
        "id": "WaD-qxjWmpSY",
        "colab": {
          "base_uri": "https://localhost:8080/"
        },
        "outputId": "df86d7c7-ef87-4b7e-c0c3-07b82ce38df8"
      },
      "source": [
        "# label encoding for output\n",
        "\n",
        "sample_data = [2000,5000,10000,20000,30000,40000]\n",
        "\n",
        "def label_encoding(category,bool):\n",
        "  le = preprocessing.LabelEncoder()\n",
        "  le.fit(category)\n",
        "  encoded_labels = le.transform(category)\n",
        "  labels = np.array(encoded_labels) # Converting into numpy array\n",
        "  class_names =le.classes_ ## Define the class names again\n",
        "  if bool == True:\n",
        "    print(\"\\n\\t\\t\\t Label Encoding \",\"\\nClass Names:-->\",le.classes_)\n",
        "    for i in sample_data:\n",
        "      print(category[i],' ', encoded_labels[i],'\\n')\n",
        "    return labels\n",
        "\n",
        "labels = label_encoding(df.label,True)"
      ],
      "execution_count": 6,
      "outputs": [
        {
          "output_type": "stream",
          "text": [
            "\n",
            "\t\t\t Label Encoding  \n",
            "Class Names:--> ['acceptable' 'religious' 'sexual' 'threat' 'troll']\n",
            "acceptable   0 \n",
            "\n",
            "troll   4 \n",
            "\n",
            "acceptable   0 \n",
            "\n",
            "sexual   2 \n",
            "\n",
            "sexual   2 \n",
            "\n",
            "acceptable   0 \n",
            "\n"
          ],
          "name": "stdout"
        }
      ]
    },
    {
      "cell_type": "code",
      "metadata": {
        "id": "USkxhzNxmqUq"
      },
      "source": [
        "#split the data in train, validation, test\n",
        "\n",
        "def dataset_split(headlines,category):\n",
        "\n",
        "    X,X_test,y,y_test = train_test_split(headlines,category,train_size = 0.8,\n",
        "                                                  test_size = 0.2,random_state =0)\n",
        "    X_train,X_valid,y_train,y_valid = train_test_split(X,y,train_size = 0.7,\n",
        "                                                  test_size = 0.3,random_state =0)\n",
        "    print(\"\\nDataset Distribution:\\n\")\n",
        "    print(\"\\tSet Name\",\"\\t\\tSize\")\n",
        "    print(\"\\t========\\t\\t======\")\n",
        "\n",
        "    print(\"\\tFull\\t\\t\\t\",len(headlines),\n",
        "        \"\\n\\tTraining\\t\\t\",len(X_train),\n",
        "        \"\\n\\tTest\\t\\t\\t\",len(X_test),\n",
        "        \"\\n\\tValidation\\t\\t\",len(X_valid))\n",
        "  \n",
        "    return X_train,X_valid,X_test,y_train,y_valid,y_test"
      ],
      "execution_count": 7,
      "outputs": []
    },
    {
      "cell_type": "code",
      "metadata": {
        "id": "FE1Vz6jzmqQH",
        "colab": {
          "base_uri": "https://localhost:8080/"
        },
        "outputId": "1f502b5a-bbf7-4490-b052-11d13802a7d3"
      },
      "source": [
        "df.text=df.text.astype(str)\n",
        "\n",
        "X_train,X_valid,X_test,y_train,y_valid,y_test = dataset_split(df.text,labels)"
      ],
      "execution_count": 8,
      "outputs": [
        {
          "output_type": "stream",
          "text": [
            "\n",
            "Dataset Distribution:\n",
            "\n",
            "\tSet Name \t\tSize\n",
            "\t========\t\t======\n",
            "\tFull\t\t\t 44001 \n",
            "\tTraining\t\t 24640 \n",
            "\tTest\t\t\t 8801 \n",
            "\tValidation\t\t 10560\n"
          ],
          "name": "stdout"
        }
      ]
    },
    {
      "cell_type": "code",
      "metadata": {
        "id": "pesysqE7mqOQ"
      },
      "source": [
        "#define perameters for GRU and padding and tokenization\n",
        "vocab_size =50000\n",
        "embedding_dim = 64\n",
        "max_length = 20\n",
        "trunc_type='post'\n",
        "padding_type='post'\n",
        "oov_tok = \"<OOV>\""
      ],
      "execution_count": 9,
      "outputs": []
    },
    {
      "cell_type": "code",
      "metadata": {
        "id": "878o9MHSmqMW"
      },
      "source": [
        "# Train Data Tokenization\n",
        "tokenizer = Tokenizer(num_words = vocab_size, oov_token=oov_tok)\n",
        "tokenizer.fit_on_texts(X_train.values)\n",
        "word_index = tokenizer.word_index\n",
        "train_sequences = tokenizer.texts_to_sequences(X_train)\n",
        "train_padded = pad_sequences(train_sequences,padding=padding_type, maxlen=max_length)"
      ],
      "execution_count": 10,
      "outputs": []
    },
    {
      "cell_type": "code",
      "metadata": {
        "id": "-0LrhZvCmqKy",
        "colab": {
          "base_uri": "https://localhost:8080/"
        },
        "outputId": "1bbda725-4854-41fc-9d9f-48c637be85a5"
      },
      "source": [
        "#Tokenizer Info\n",
        "(word_counts,word_docs,word_index,document_count) = (tokenizer.word_counts,\n",
        "                                                       tokenizer.word_docs,\n",
        "                                                       tokenizer.word_index,\n",
        "                                                       tokenizer.document_count)\n",
        "#insightful info about tokens\n",
        "def tokenizer_info(mylist,bool):\n",
        "  ordered = sorted(mylist.items(), key= lambda item: item[1],reverse = bool)\n",
        "  for w,c in ordered[:10]:\n",
        "    print(w,\"\\t\",c)\n",
        "\n",
        "#Print all the information\n",
        "print(\"Words --> Counts:\")\n",
        "tokenizer_info(word_counts,bool =True )\n",
        "print(\"\\nWords --> Documents:\")\n",
        "tokenizer_info(word_docs,bool =True )\n",
        "print(\"\\nWords --> Index:\")\n",
        "tokenizer_info(word_index,bool =True )    \n",
        "print(\"\\nTotal Documents -->\",document_count)\n",
        "print(f\"Found {len(word_index)} unique tokens\")"
      ],
      "execution_count": 11,
      "outputs": [
        {
          "output_type": "stream",
          "text": [
            "Words --> Counts:\n",
            "না \t 8930\n",
            "নাস্তিক \t 4145\n",
            "কর \t 3082\n",
            "বিশ্বাস \t 2953\n",
            "আল্লাহ \t 2891\n",
            "যে \t 2752\n",
            "কথা \t 2552\n",
            "এক \t 2486\n",
            "তুই \t 2381\n",
            "ও \t 2120\n",
            "\n",
            "Words --> Documents:\n",
            "না \t 5572\n",
            "নাস্তিক \t 3345\n",
            "কর \t 2489\n",
            "যে \t 2116\n",
            "এক \t 2093\n",
            "আল্লাহ \t 2045\n",
            "কথা \t 1963\n",
            "বিশ্বাস \t 1870\n",
            "ও \t 1695\n",
            "তুই \t 1625\n",
            "\n",
            "Words --> Index:\n",
            "দায়ভ \t 33205\n",
            "দিয়েছেএবং \t 33204\n",
            "পদক্ষেপের \t 33203\n",
            "ছেরী \t 33202\n",
            "খ্রৃস্টান \t 33201\n",
            "পপুলারটি \t 33200\n",
            "ম্যে \t 33199\n",
            "ব্যেবি \t 33198\n",
            "ফিরাতে \t 33197\n",
            "উইয়ার্ড \t 33196\n",
            "\n",
            "Total Documents --> 24640\n",
            "Found 33205 unique tokens\n"
          ],
          "name": "stdout"
        }
      ]
    },
    {
      "cell_type": "code",
      "metadata": {
        "id": "dFsoWaq0n7nX",
        "colab": {
          "base_uri": "https://localhost:8080/"
        },
        "outputId": "ac32093a-36e1-468d-820e-5fcb5ce639f4"
      },
      "source": [
        "def padded_headlines(original,encoded,padded):\n",
        "  print(\"\\n\\t\\t\\t Encoded Sequences \",\"\\n\")  \n",
        "  print(original,\"\\n\",encoded) \n",
        "  print(\"\\n\\t\\t\\t Paded Sequences \\n\",original,\"\\n\",padded)\n",
        "\n",
        "#padded_headlines(X_train[1],train_sequences[1],train_padded[1])"
      ],
      "execution_count": 12,
      "outputs": [
        {
          "output_type": "stream",
          "text": [
            "\n",
            "\t\t\t Encoded Sequences  \n",
            "\n",
            "ঘরে শুট কেমন ক্যামেরা ছিল \n",
            " [12, 13832, 281, 8, 147, 797, 41, 12, 79, 309, 133, 2251, 145, 5, 24, 5, 2, 112, 79, 2, 14, 18, 369, 840, 5, 2, 79, 2, 143, 693, 52, 5, 220, 7, 6, 3943, 5, 2, 255, 30, 11, 33, 43, 255, 365, 7523, 185, 2632, 14, 18, 2156, 577, 14, 18, 2066, 993, 13, 444, 13833, 472, 7524, 9537, 4331, 13834, 113, 4, 67, 3640, 472, 7524, 68, 9537, 4331, 67, 13835]\n",
            "\n",
            "\t\t\t Paded Sequences \n",
            " ঘরে শুট কেমন ক্যামেরা ছিল \n",
            " [  993    13   444 13833   472  7524  9537  4331 13834   113     4    67\n",
            "  3640   472  7524    68  9537  4331    67 13835]\n"
          ],
          "name": "stdout"
        }
      ]
    },
    {
      "cell_type": "code",
      "metadata": {
        "id": "Fb3c0APnr2_d"
      },
      "source": [
        "# Validation Data Tokenization\n",
        "validation_sequences = tokenizer.texts_to_sequences(X_valid.values)\n",
        "validation_padded = pad_sequences(validation_sequences,padding=padding_type, maxlen=max_length)\n",
        "#padded_headlines(X_valid[12222],validation_sequences[1],validation_padded[1])\n"
      ],
      "execution_count": 13,
      "outputs": []
    },
    {
      "cell_type": "code",
      "metadata": {
        "id": "czMU3sA6r71d"
      },
      "source": [
        "# Test Data Tokenization\n",
        "test_sequences = tokenizer.texts_to_sequences(X_test.values)\n",
        "test_padded = pad_sequences(test_sequences,padding=padding_type, maxlen=max_length)\n",
        "#padded_headlines(X_test[10],test_sequences[1],test_padded[1])\n"
      ],
      "execution_count": 14,
      "outputs": []
    },
    {
      "cell_type": "code",
      "metadata": {
        "id": "0wSKzSPbn7d2"
      },
      "source": [
        "train_label_seq = y_train\n",
        "valid_label_seq = y_valid\n",
        "testing_label_seq = y_test"
      ],
      "execution_count": 15,
      "outputs": []
    },
    {
      "cell_type": "code",
      "metadata": {
        "id": "Z9x805KqLTjS"
      },
      "source": [
        "accuracy_threshold = 0.97\n",
        "vocab_size = 50000\n",
        "embedding_dim = 64\n",
        "max_length = 20\n",
        "num_category = 5\n",
        "opt=Adam(lr=0.001)\n",
        "path=\"/content/drive/MyDrive/Colab Notebooks/multi class bangla sentiment analysis/model/\""
      ],
      "execution_count": 16,
      "outputs": []
    },
    {
      "cell_type": "code",
      "metadata": {
        "id": "HzomKhGDn7cK"
      },
      "source": [
        "keras.backend.clear_session()\n",
        "#callback function for early stopping\n",
        "class myCallback(keras.callbacks.Callback):\n",
        "  def on_epoch_end(self, epoch, logs={}):\n",
        "      if(logs.get('accuracy')>accuracy_threshold):\n",
        "        print(\"\\nReached %2.2f%% accuracy so we will stop trianing\" % (accuracy_threshold*100))\n",
        "        self.model.stop_training = True\n",
        "\n",
        "acc_callback = myCallback()\n"
      ],
      "execution_count": 17,
      "outputs": []
    },
    {
      "cell_type": "code",
      "metadata": {
        "id": "_FrK5i2LLa64"
      },
      "source": [
        "# Saved the Best Model\n",
        "filepath = path+\"BidGruModel.h5\"\n",
        "checkpoint = keras.callbacks.ModelCheckpoint(filepath, monitor='val_accuracy', verbose=2, save_best_only=True, \n",
        "                                             save_weights_only=False, mode='max')\n",
        "callback_list = [acc_callback, checkpoint] \n",
        "model = tf.keras.Sequential([\n",
        "    tf.keras.layers.Embedding(vocab_size, embedding_dim, input_length=max_length),\n",
        "    tf.keras.layers.Bidirectional(GRU(64,dropout=0.2)),\n",
        "    tf.keras.layers.Dense(50, activation='relu'),\n",
        "    tf.keras.layers.Dense(50, activation='relu'),\n",
        "    tf.keras.layers.Dense(20, activation='relu'),\n",
        "    #tf.keras.layers.Dense(50, activation='relu'),\n",
        "    #tf.keras.layers.Dense(10,kernel_regularizer='l2',bias_regularizer='l2', activation='relu'),\n",
        "    \n",
        "    tf.keras.layers.Flatten(),\n",
        "    tf.keras.layers.Dropout(0.1),\n",
        "    tf.keras.layers.Dense(num_category, activation='softmax')\n",
        "])\n"
      ],
      "execution_count": 18,
      "outputs": []
    },
    {
      "cell_type": "code",
      "metadata": {
        "colab": {
          "base_uri": "https://localhost:8080/"
        },
        "id": "vcre6hbpLd8m",
        "outputId": "f39f0fb0-7a8e-4d2b-a6c6-dccf259cb5f4"
      },
      "source": [
        "model.compile(loss='sparse_categorical_crossentropy',optimizer=opt,metrics=['accuracy'])\n",
        "model.summary()"
      ],
      "execution_count": 19,
      "outputs": [
        {
          "output_type": "stream",
          "text": [
            "Model: \"sequential\"\n",
            "_________________________________________________________________\n",
            "Layer (type)                 Output Shape              Param #   \n",
            "=================================================================\n",
            "embedding (Embedding)        (None, 20, 64)            3200000   \n",
            "_________________________________________________________________\n",
            "bidirectional (Bidirectional (None, 128)               49920     \n",
            "_________________________________________________________________\n",
            "dense (Dense)                (None, 50)                6450      \n",
            "_________________________________________________________________\n",
            "dense_1 (Dense)              (None, 50)                2550      \n",
            "_________________________________________________________________\n",
            "dense_2 (Dense)              (None, 20)                1020      \n",
            "_________________________________________________________________\n",
            "flatten (Flatten)            (None, 20)                0         \n",
            "_________________________________________________________________\n",
            "dropout (Dropout)            (None, 20)                0         \n",
            "_________________________________________________________________\n",
            "dense_3 (Dense)              (None, 5)                 105       \n",
            "=================================================================\n",
            "Total params: 3,260,045\n",
            "Trainable params: 3,260,045\n",
            "Non-trainable params: 0\n",
            "_________________________________________________________________\n"
          ],
          "name": "stdout"
        }
      ]
    },
    {
      "cell_type": "code",
      "metadata": {
        "colab": {
          "base_uri": "https://localhost:8080/"
        },
        "id": "fgOgCCyBn7Zo",
        "outputId": "5aad6ca5-dcb0-428a-bc86-bfc4c70f63a9"
      },
      "source": [
        "num_epochs = 10\n",
        "batch = 50\n",
        "\n",
        "history = model.fit(train_padded, train_label_seq, \n",
        "                    epochs=num_epochs,\n",
        "                    batch_size = batch,\n",
        "                    validation_data=(validation_padded, valid_label_seq), \n",
        "                    verbose=1,\n",
        "                    callbacks = callback_list)"
      ],
      "execution_count": 20,
      "outputs": [
        {
          "output_type": "stream",
          "text": [
            "Epoch 1/10\n",
            "493/493 [==============================] - 21s 35ms/step - loss: 0.9575 - accuracy: 0.6231 - val_loss: 0.6869 - val_accuracy: 0.7477\n",
            "\n",
            "Epoch 00001: val_accuracy improved from -inf to 0.74773, saving model to /content/drive/MyDrive/Colab Notebooks/multi class bangla sentiment analysis/model/BidGruModel.h5\n",
            "Epoch 2/10\n",
            "493/493 [==============================] - 16s 33ms/step - loss: 0.5401 - accuracy: 0.8217 - val_loss: 0.6277 - val_accuracy: 0.7788\n",
            "\n",
            "Epoch 00002: val_accuracy improved from 0.74773 to 0.77879, saving model to /content/drive/MyDrive/Colab Notebooks/multi class bangla sentiment analysis/model/BidGruModel.h5\n",
            "Epoch 3/10\n",
            "493/493 [==============================] - 16s 33ms/step - loss: 0.3447 - accuracy: 0.8954 - val_loss: 0.6827 - val_accuracy: 0.7663\n",
            "\n",
            "Epoch 00003: val_accuracy did not improve from 0.77879\n",
            "Epoch 4/10\n",
            "493/493 [==============================] - 16s 33ms/step - loss: 0.2249 - accuracy: 0.9344 - val_loss: 0.8251 - val_accuracy: 0.7724\n",
            "\n",
            "Epoch 00004: val_accuracy did not improve from 0.77879\n",
            "Epoch 5/10\n",
            "493/493 [==============================] - 16s 33ms/step - loss: 0.1630 - accuracy: 0.9530 - val_loss: 1.0453 - val_accuracy: 0.7704\n",
            "\n",
            "Epoch 00005: val_accuracy did not improve from 0.77879\n",
            "Epoch 6/10\n",
            "493/493 [==============================] - 16s 32ms/step - loss: 0.1286 - accuracy: 0.9623 - val_loss: 1.0101 - val_accuracy: 0.7593\n",
            "\n",
            "Epoch 00006: val_accuracy did not improve from 0.77879\n",
            "Epoch 7/10\n",
            "493/493 [==============================] - 16s 32ms/step - loss: 0.1056 - accuracy: 0.9680 - val_loss: 1.0610 - val_accuracy: 0.7620\n",
            "\n",
            "Epoch 00007: val_accuracy did not improve from 0.77879\n",
            "Epoch 8/10\n",
            "493/493 [==============================] - 16s 32ms/step - loss: 0.0882 - accuracy: 0.9745 - val_loss: 1.1666 - val_accuracy: 0.7657\n",
            "\n",
            "Reached 97.00% accuracy so we will stop trianing\n",
            "\n",
            "Epoch 00008: val_accuracy did not improve from 0.77879\n"
          ],
          "name": "stdout"
        }
      ]
    },
    {
      "cell_type": "code",
      "metadata": {
        "colab": {
          "base_uri": "https://localhost:8080/",
          "height": 428
        },
        "id": "tS6-_WIgLjXE",
        "outputId": "8dd24fe6-148b-40f2-8916-ed7b22b5fabd"
      },
      "source": [
        "# Plot training results\n",
        "H = history.history\n",
        "fig = plt.figure(figsize = (20, 7))\n",
        "plt.subplot(121)\n",
        "plt.plot(H['accuracy'], label = 'acc')\n",
        "plt.plot(H['val_accuracy'], label = 'val_acc')\n",
        "plt.grid()\n",
        "plt.legend()\n",
        "\n",
        "plt.subplot(122)\n",
        "plt.plot(H['loss'], label = 'loss')\n",
        "plt.plot(H['val_loss'], label = 'val_loss')\n",
        "plt.grid()\n",
        "plt.legend()\n",
        "plt.savefig(\"/content/drive/MyDrive/Colab Notebooks/multi class bangla sentiment analysis/visualization/result_analysis/BiGru/Bi_Gru_evaluation.png\")"
      ],
      "execution_count": 21,
      "outputs": [
        {
          "output_type": "display_data",
          "data": {
            "image/png": "[encoded data removed]",
            "text/plain": [
              "<Figure size 1440x504 with 2 Axes>"
            ]
          },
          "metadata": {
            "tags": [],
            "needs_background": "light"
          }
        }
      ]
    },
    {
      "cell_type": "code",
      "metadata": {
        "id": "yPzIDO7HNmg7"
      },
      "source": [
        "#confusion matrix\n",
        "def conf_matrix(y_pred,classfier,directory,filename):\n",
        "\n",
        "  cm = confusion_matrix(y_test, y_pred) \n",
        "# Transform to df for easier plotting\n",
        "  \n",
        "  cm_df = pd.DataFrame(cm,\n",
        "                       index = ['acceptable' ,'religious' ,'sexual', 'threat', 'troll'], \n",
        "                       columns = ['acceptable' ,'religious' ,'sexual', 'threat', 'troll'])\n",
        "  plt.figure(figsize=(8,6))\n",
        "  sn.heatmap(cm_df, annot=True,cmap=\"YlGnBu\", fmt='g')\n",
        "  plt.title('\\n'+classfier+'Accuracy: {0:.2f}'.format(accuracy_score(testing_label_seq, y_pred)*100))\n",
        "  plt.ylabel('True label')\n",
        "  plt.xlabel('Predicted label')\n",
        "  plt.xticks(rotation = 45)\n",
        "  plt.yticks(rotation = 45)\n",
        "  plt.savefig(\"/content/drive/MyDrive/Colab Notebooks/multi class bangla sentiment analysis/visualization/result_analysis/\"+directory+\"/\"+filename+\".png\")\n",
        "  plt.show()\n",
        "  plt.close()"
      ],
      "execution_count": 22,
      "outputs": []
    },
    {
      "cell_type": "code",
      "metadata": {
        "id": "lW43An1lPfbd"
      },
      "source": [
        "#Report generation\n",
        "\n",
        "def report_generate(pred,classfier,directory,filename):\n",
        "  report = pd.DataFrame(classification_report(y_true = testing_label_seq, y_pred = pred, output_dict=True)).transpose()\n",
        "  report = report.rename(index={'0': 'acceptable','1':'religious','2':'sexual','3':'threat','4':'troll'})\n",
        "  report[['precision','recall','f1-score']]=report[['precision','recall','f1-score']].apply(lambda x: round(x*100,2))\n",
        "  report=report.drop([\"support\"],axis=1)\n",
        "  columns = ['precision','recall','f1-score']\n",
        "  report.columns = columns\n",
        "  plt = report.plot(kind='bar',figsize=(12,6))\n",
        "  \n",
        "  plot=plt.tick_params(rotation=40)\n",
        "  plt.figure.savefig(\"/content/drive/MyDrive/Colab Notebooks/multi class bangla sentiment analysis/visualization/result_analysis/\"+directory+\"/\"+filename+\".png\")\n",
        "  \n",
        "  return plot,report"
      ],
      "execution_count": 23,
      "outputs": []
    },
    {
      "cell_type": "code",
      "metadata": {
        "id": "Qw5rJYIfNz2a"
      },
      "source": [
        "#make predictions\n",
        "\n",
        "model = load_model(path+\"BidGruModel.h5\")\n",
        "predictions = model.predict(test_padded)\n",
        "y_pred = np.argmax(predictions, axis=1)\n"
      ],
      "execution_count": 24,
      "outputs": []
    },
    {
      "cell_type": "code",
      "metadata": {
        "colab": {
          "base_uri": "https://localhost:8080/",
          "height": 455
        },
        "id": "zTaCbJZIPepQ",
        "outputId": "271f16d0-5713-4b3b-8a7c-391e4b0a3e9e"
      },
      "source": [
        "conf_matrix(y_pred,\"Bidirectional GRU\",\"BiGru\",\"Bi_Gru_confusion_matrix\")"
      ],
      "execution_count": 25,
      "outputs": [
        {
          "output_type": "display_data",
          "data": {
            "image/png": "[encoded data removed]",
            "text/plain": [
              "<Figure size 576x432 with 2 Axes>"
            ]
          },
          "metadata": {
            "tags": [],
            "needs_background": "light"
          }
        }
      ]
    },
    {
      "cell_type": "code",
      "metadata": {
        "colab": {
          "base_uri": "https://localhost:8080/",
          "height": 695
        },
        "id": "xtzcCe7SRKiA",
        "outputId": "51ec2425-b4bf-4a1d-b686-ddf4baf0f52f"
      },
      "source": [
        "GRUreport=report_generate(y_pred,\"Bidirectional GRU\",\"BiGru\",\"Bi_Gru_report\")\n",
        "GRUreport[1]"
      ],
      "execution_count": 26,
      "outputs": [
        {
          "output_type": "execute_result",
          "data": {
            "text/html": [
              "<div>\n",
              "<style scoped>\n",
              "    .dataframe tbody tr th:only-of-type {\n",
              "        vertical-align: middle;\n",
              "    }\n",
              "\n",
              "    .dataframe tbody tr th {\n",
              "        vertical-align: top;\n",
              "    }\n",
              "\n",
              "    .dataframe thead th {\n",
              "        text-align: right;\n",
              "    }\n",
              "</style>\n",
              "<table border=\"1\" class=\"dataframe\">\n",
              "  <thead>\n",
              "    <tr style=\"text-align: right;\">\n",
              "      <th></th>\n",
              "      <th>precision</th>\n",
              "      <th>recall</th>\n",
              "      <th>f1-score</th>\n",
              "    </tr>\n",
              "  </thead>\n",
              "  <tbody>\n",
              "    <tr>\n",
              "      <th>acceptable</th>\n",
              "      <td>78.76</td>\n",
              "      <td>86.10</td>\n",
              "      <td>82.26</td>\n",
              "    </tr>\n",
              "    <tr>\n",
              "      <th>religious</th>\n",
              "      <td>80.75</td>\n",
              "      <td>85.09</td>\n",
              "      <td>82.87</td>\n",
              "    </tr>\n",
              "    <tr>\n",
              "      <th>sexual</th>\n",
              "      <td>78.25</td>\n",
              "      <td>77.45</td>\n",
              "      <td>77.85</td>\n",
              "    </tr>\n",
              "    <tr>\n",
              "      <th>threat</th>\n",
              "      <td>83.63</td>\n",
              "      <td>58.33</td>\n",
              "      <td>68.73</td>\n",
              "    </tr>\n",
              "    <tr>\n",
              "      <th>troll</th>\n",
              "      <td>75.75</td>\n",
              "      <td>66.94</td>\n",
              "      <td>71.07</td>\n",
              "    </tr>\n",
              "    <tr>\n",
              "      <th>accuracy</th>\n",
              "      <td>78.50</td>\n",
              "      <td>78.50</td>\n",
              "      <td>78.50</td>\n",
              "    </tr>\n",
              "    <tr>\n",
              "      <th>macro avg</th>\n",
              "      <td>79.43</td>\n",
              "      <td>74.78</td>\n",
              "      <td>76.56</td>\n",
              "    </tr>\n",
              "    <tr>\n",
              "      <th>weighted avg</th>\n",
              "      <td>78.45</td>\n",
              "      <td>78.50</td>\n",
              "      <td>78.26</td>\n",
              "    </tr>\n",
              "  </tbody>\n",
              "</table>\n",
              "</div>"
            ],
            "text/plain": [
              "              precision  recall  f1-score\n",
              "acceptable        78.76   86.10     82.26\n",
              "religious         80.75   85.09     82.87\n",
              "sexual            78.25   77.45     77.85\n",
              "threat            83.63   58.33     68.73\n",
              "troll             75.75   66.94     71.07\n",
              "accuracy          78.50   78.50     78.50\n",
              "macro avg         79.43   74.78     76.56\n",
              "weighted avg      78.45   78.50     78.26"
            ]
          },
          "metadata": {
            "tags": []
          },
          "execution_count": 26
        },
        {
          "output_type": "display_data",
          "data": {
            "image/png": "[encoded data removed]",
            "text/plain": [
              "<Figure size 864x432 with 1 Axes>"
            ]
          },
          "metadata": {
            "tags": [],
            "needs_background": "light"
          }
        }
      ]
    },
    {
      "cell_type": "code",
      "metadata": {
        "id": "oc-22t1coZrZ"
      },
      "source": [
        ""
      ],
      "execution_count": null,
      "outputs": []
    },
    {
      "cell_type": "code",
      "metadata": {
        "id": "itiCSurdoZoT"
      },
      "source": [
        ""
      ],
      "execution_count": null,
      "outputs": []
    },
    {
      "cell_type": "code",
      "metadata": {
        "id": "ChKeVFzRoZjj"
      },
      "source": [
        ""
      ],
      "execution_count": null,
      "outputs": []
    },
    {
      "cell_type": "code",
      "metadata": {
        "id": "cR-fgIAKoZhY"
      },
      "source": [
        ""
      ],
      "execution_count": null,
      "outputs": []
    },
    {
      "cell_type": "code",
      "metadata": {
        "id": "K4keCH_qoZff"
      },
      "source": [
        ""
      ],
      "execution_count": null,
      "outputs": []
    }
  ]
}