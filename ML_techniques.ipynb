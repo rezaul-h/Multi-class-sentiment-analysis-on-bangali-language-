{
  "nbformat": 4,
  "nbformat_minor": 0,
  "metadata": {
    "colab": {
      "name": "ML techniques.ipynb",
      "provenance": []
    },
    "kernelspec": {
      "name": "python3",
      "display_name": "Python 3"
    },
    "language_info": {
      "name": "python"
    }
  },
  "cells": [
    {
      "cell_type": "code",
      "metadata": {
        "colab": {
          "base_uri": "https://localhost:8080/"
        },
        "id": "B8Jn17v0GF58",
        "outputId": "eca51698-0fe1-4004-d2ff-fe3fc514822c"
      },
      "source": [
        "#As we dont have any GPU we will be using google collab for GPU usage\n",
        "#Mout at drive \n",
        "import sys\n",
        "from google.colab import drive\n",
        "from pathlib import Path\n",
        "drive.mount(\"/content/drive\", force_remount=True)"
      ],
      "execution_count": 1,
      "outputs": [
        {
          "output_type": "stream",
          "text": [
            "Mounted at /content/drive\n"
          ],
          "name": "stdout"
        }
      ]
    },
    {
      "cell_type": "code",
      "metadata": {
        "id": "yz314hXBoRNN"
      },
      "source": [
        "#useful downloads\n",
        "#!pip install bnlp_toolkit"
      ],
      "execution_count": 2,
      "outputs": []
    },
    {
      "cell_type": "code",
      "metadata": {
        "id": "_E3SrxT0GqK6",
        "colab": {
          "base_uri": "https://localhost:8080/"
        },
        "outputId": "1f911ad4-1a32-44e1-dc08-535e7b199307"
      },
      "source": [
        "#import packages\n",
        "\n",
        "import matplotlib.pyplot as plt\n",
        "from sklearn.model_selection import train_test_split\n",
        "import seaborn as sn\n",
        "%matplotlib inline\n",
        "import re\n",
        "import sys\n",
        "import warnings\n",
        "import pandas as pd\n",
        "import numpy as np\n",
        "from sklearn import preprocessing\n",
        "from nltk.stem.porter import PorterStemmer\n",
        "from nltk.stem import WordNetLemmatizer\n",
        "import matplotlib.pyplot as plt\n",
        "from gensim.models import Word2Vec\n",
        "from sklearn.linear_model import SGDClassifier\n",
        "from sklearn.tree import DecisionTreeClassifier\n",
        "from xgboost import XGBClassifier\n",
        "from sklearn.model_selection import StratifiedKFold\n",
        "from sklearn.model_selection import train_test_split\n",
        "from sklearn.feature_extraction.text import TfidfVectorizer,CountVectorizer\n",
        "from sklearn.naive_bayes import MultinomialNB\n",
        "from sklearn.multiclass import OneVsRestClassifier\n",
        "from bnlp.corpus import stopwords\n",
        "from nltk import pos_tag\n",
        "from nltk.corpus import wordnet\n",
        "from sklearn.metrics import classification_report, confusion_matrix\n",
        "from sklearn.metrics import accuracy_score\n",
        "from sklearn.svm import LinearSVC\n",
        "from sklearn.linear_model import LogisticRegression\n",
        "from sklearn.pipeline import Pipeline\n",
        "warnings.filterwarnings(\"ignore\")"
      ],
      "execution_count": 3,
      "outputs": [
        {
          "output_type": "stream",
          "text": [
            "/usr/local/lib/python3.7/dist-packages/gensim/similarities/__init__.py:15: UserWarning: The gensim.similarities.levenshtein submodule is disabled, because the optional Levenshtein package <https://pypi.org/project/python-Levenshtein/> is unavailable. Install Levenhstein (e.g. `pip install python-Levenshtein`) to suppress this warning.\n",
            "  warnings.warn(msg)\n"
          ],
          "name": "stderr"
        }
      ]
    },
    {
      "cell_type": "code",
      "metadata": {
        "colab": {
          "base_uri": "https://localhost:8080/",
          "height": 289
        },
        "id": "AN2dQxGcGNkb",
        "outputId": "a9eb2565-c045-40bd-bb59-aff2274a5377"
      },
      "source": [
        "#read the data\n",
        "df=pd.read_csv('/content/drive/MyDrive/Colab Notebooks/multi class bangla sentiment analysis/dataset/bangla_comments_tokenized.csv')\n",
        "df.tail()\n"
      ],
      "execution_count": 4,
      "outputs": [
        {
          "output_type": "execute_result",
          "data": {
            "text/html": [
              "<div>\n",
              "<style scoped>\n",
              "    .dataframe tbody tr th:only-of-type {\n",
              "        vertical-align: middle;\n",
              "    }\n",
              "\n",
              "    .dataframe tbody tr th {\n",
              "        vertical-align: top;\n",
              "    }\n",
              "\n",
              "    .dataframe thead th {\n",
              "        text-align: right;\n",
              "    }\n",
              "</style>\n",
              "<table border=\"1\" class=\"dataframe\">\n",
              "  <thead>\n",
              "    <tr style=\"text-align: right;\">\n",
              "      <th></th>\n",
              "      <th>label</th>\n",
              "      <th>text</th>\n",
              "      <th>clean_text</th>\n",
              "      <th>tokenized_clean_text</th>\n",
              "      <th>tokenized_stem_text</th>\n",
              "    </tr>\n",
              "  </thead>\n",
              "  <tbody>\n",
              "    <tr>\n",
              "      <th>43996</th>\n",
              "      <td>not bully</td>\n",
              "      <td>হিরো আলম এগা যাও</td>\n",
              "      <td>হিরো আলম এগিয়ে যাও</td>\n",
              "      <td>['হিরো', 'আলম', 'এগিয়ে', 'যাও']</td>\n",
              "      <td>['হিরো', 'আলম', 'এগা', 'যাও']</td>\n",
              "    </tr>\n",
              "    <tr>\n",
              "      <th>43997</th>\n",
              "      <td>not bully</td>\n",
              "      <td>হিরো আলম সাপোর্ট অসংখ্য ধন্যবাদ আপনা</td>\n",
              "      <td>হিরো আলমকে সাপোর্ট অসংখ্য ধন্যবাদ আপনাকে</td>\n",
              "      <td>['হিরো', 'আলমকে', 'সাপোর্ট', 'অসংখ্য', 'ধন্যবা...</td>\n",
              "      <td>['হিরো', 'আলম', 'সাপোর্ট', 'অসংখ্য', 'ধন্যবাদ'...</td>\n",
              "    </tr>\n",
              "    <tr>\n",
              "      <th>43998</th>\n",
              "      <td>not bully</td>\n",
              "      <td>হিরো ভাই এগা য়াও</td>\n",
              "      <td>হিরো ভাই এগিয়ে য়াও</td>\n",
              "      <td>['হিরো', 'ভাই', 'এগিয়ে', 'য়াও']</td>\n",
              "      <td>['হিরো', 'ভাই', 'এগা', 'য়াও']</td>\n",
              "    </tr>\n",
              "    <tr>\n",
              "      <th>43999</th>\n",
              "      <td>not bully</td>\n",
              "      <td>হুম ভাও তোমরা এগা যাও তোমা পিছনে আছি</td>\n",
              "      <td>হুম ভাও তোমরা এগিয়ে যাও তোমাদের পিছনে আছি</td>\n",
              "      <td>['হুম', 'ভাও', 'তোমরা', 'এগিয়ে', 'যাও', 'তোমাদ...</td>\n",
              "      <td>['হুম', 'ভাও', 'তোমরা', 'এগা', 'যাও', 'তোমা', ...</td>\n",
              "    </tr>\n",
              "    <tr>\n",
              "      <th>44000</th>\n",
              "      <td>not bully</td>\n",
              "      <td>হ্যালো তোমা সাথে আমা চ্যাট করবে</td>\n",
              "      <td>হ্যালো তোমাদের সাথে আমা চ্যাট করবে</td>\n",
              "      <td>['হ্যালো', 'তোমাদের', 'সাথে', 'আমা', 'চ্যাট', ...</td>\n",
              "      <td>['হ্যালো', 'তোমা', 'সাথে', 'আমা', 'চ্যাট', 'কর...</td>\n",
              "    </tr>\n",
              "  </tbody>\n",
              "</table>\n",
              "</div>"
            ],
            "text/plain": [
              "           label  ...                                tokenized_stem_text\n",
              "43996  not bully  ...                      ['হিরো', 'আলম', 'এগা', 'যাও']\n",
              "43997  not bully  ...  ['হিরো', 'আলম', 'সাপোর্ট', 'অসংখ্য', 'ধন্যবাদ'...\n",
              "43998  not bully  ...                      ['হিরো', 'ভাই', 'এগা', 'য়াও']\n",
              "43999  not bully  ...  ['হুম', 'ভাও', 'তোমরা', 'এগা', 'যাও', 'তোমা', ...\n",
              "44000  not bully  ...  ['হ্যালো', 'তোমা', 'সাথে', 'আমা', 'চ্যাট', 'কর...\n",
              "\n",
              "[5 rows x 5 columns]"
            ]
          },
          "metadata": {
            "tags": []
          },
          "execution_count": 4
        }
      ]
    },
    {
      "cell_type": "code",
      "metadata": {
        "colab": {
          "base_uri": "https://localhost:8080/",
          "height": 238
        },
        "id": "Y8DT5-ceU_ou",
        "outputId": "81addf32-a566-4ae9-8f6f-490bd30ea2a5"
      },
      "source": [
        "#rename  'not bully' to 'acceptable'\n",
        "df['label'] = df['label'].replace({'not bully':'acceptable'})\n",
        "df.head()"
      ],
      "execution_count": 5,
      "outputs": [
        {
          "output_type": "execute_result",
          "data": {
            "text/html": [
              "<div>\n",
              "<style scoped>\n",
              "    .dataframe tbody tr th:only-of-type {\n",
              "        vertical-align: middle;\n",
              "    }\n",
              "\n",
              "    .dataframe tbody tr th {\n",
              "        vertical-align: top;\n",
              "    }\n",
              "\n",
              "    .dataframe thead th {\n",
              "        text-align: right;\n",
              "    }\n",
              "</style>\n",
              "<table border=\"1\" class=\"dataframe\">\n",
              "  <thead>\n",
              "    <tr style=\"text-align: right;\">\n",
              "      <th></th>\n",
              "      <th>label</th>\n",
              "      <th>text</th>\n",
              "      <th>clean_text</th>\n",
              "      <th>tokenized_clean_text</th>\n",
              "      <th>tokenized_stem_text</th>\n",
              "    </tr>\n",
              "  </thead>\n",
              "  <tbody>\n",
              "    <tr>\n",
              "      <th>0</th>\n",
              "      <td>sexual</td>\n",
              "      <td>হালা পুত মদ খাওয় সময় রাত বেলা মদ খাই দিন বেল...</td>\n",
              "      <td>হালার পুত মদ খাওয়ার সময় রাতের বেলা মদ খাই দ...</td>\n",
              "      <td>['হালার', 'পুত', 'মদ', 'খাওয়ার', 'সময়', 'রাত...</td>\n",
              "      <td>['হালা', 'পুত', 'মদ', 'খাওয়', 'সময়', 'রাত', ...</td>\n",
              "    </tr>\n",
              "    <tr>\n",
              "      <th>1</th>\n",
              "      <td>acceptable</td>\n",
              "      <td>ঘরে শুট কেমন ক্যামেরা ছিল</td>\n",
              "      <td>ঘরে শুট কেমন ক্যামেরাতে ছিলেন</td>\n",
              "      <td>['ঘরে', 'শুট', 'কেমন', 'ক্যামেরাতে', 'ছিলেন']</td>\n",
              "      <td>['ঘরে', 'শুট', 'কেমন', 'ক্যামেরা', 'ছিল']</td>\n",
              "    </tr>\n",
              "    <tr>\n",
              "      <th>2</th>\n",
              "      <td>acceptable</td>\n",
              "      <td>অরে বাবা পাগল</td>\n",
              "      <td>অরে বাবা পাগল</td>\n",
              "      <td>['অরে', 'বাবা', 'পাগল']</td>\n",
              "      <td>['অরে', 'বাবা', 'পাগল']</td>\n",
              "    </tr>\n",
              "    <tr>\n",
              "      <th>3</th>\n",
              "      <td>acceptable</td>\n",
              "      <td>ক্যাপ্ট অফ বাংলাদেশ</td>\n",
              "      <td>ক্যাপ্টেন অফ বাংলাদেশ</td>\n",
              "      <td>['ক্যাপ্টেন', 'অফ', 'বাংলাদেশ']</td>\n",
              "      <td>['ক্যাপ্ট', 'অফ', 'বাংলাদেশ']</td>\n",
              "    </tr>\n",
              "    <tr>\n",
              "      <th>4</th>\n",
              "      <td>troll</td>\n",
              "      <td>পটকা মাছ</td>\n",
              "      <td>পটকা মাছ</td>\n",
              "      <td>['পটকা', 'মাছ']</td>\n",
              "      <td>['পটকা', 'মাছ']</td>\n",
              "    </tr>\n",
              "  </tbody>\n",
              "</table>\n",
              "</div>"
            ],
            "text/plain": [
              "        label  ...                                tokenized_stem_text\n",
              "0      sexual  ...  ['হালা', 'পুত', 'মদ', 'খাওয়', 'সময়', 'রাত', ...\n",
              "1  acceptable  ...          ['ঘরে', 'শুট', 'কেমন', 'ক্যামেরা', 'ছিল']\n",
              "2  acceptable  ...                            ['অরে', 'বাবা', 'পাগল']\n",
              "3  acceptable  ...                      ['ক্যাপ্ট', 'অফ', 'বাংলাদেশ']\n",
              "4       troll  ...                                    ['পটকা', 'মাছ']\n",
              "\n",
              "[5 rows x 5 columns]"
            ]
          },
          "metadata": {
            "tags": []
          },
          "execution_count": 5
        }
      ]
    },
    {
      "cell_type": "code",
      "metadata": {
        "id": "6G_qv2JVGumC"
      },
      "source": [
        "#categorical Columns OneHotEncoder\n",
        "from sklearn.base import TransformerMixin,BaseEstimator\n",
        "from sklearn.preprocessing import OneHotEncoder\n",
        "class My_encoder(BaseEstimator, TransformerMixin):\n",
        "   \n",
        "    def __init__(self,drop = 'first',sparse=False):\n",
        "        self.encoder = OneHotEncoder(drop = drop,sparse = sparse)\n",
        "        self.features_to_encode = []\n",
        "        self.columns = []\n",
        "    \n",
        "    def fit(self,X_train,features_to_encode):\n",
        "        \n",
        "        data = X_train.copy()\n",
        "        self.features_to_encode = features_to_encode\n",
        "        data_to_encode = data[self.features_to_encode]\n",
        "        self.columns = pd.get_dummies(data_to_encode,drop_first = True).columns\n",
        "        self.encoder.fit(data_to_encode)\n",
        "        return self.encoder\n",
        "    \n",
        "    def transform(self,X_test):\n",
        "        \n",
        "        data = X_test.copy()\n",
        "        data.reset_index(drop = True,inplace =True)\n",
        "        data_to_encode = data[self.features_to_encode]\n",
        "        data_left = data.drop(self.features_to_encode,axis = 1)\n",
        "        data_encoded = pd.DataFrame(self.encoder.transform(data_to_encode),columns = self.columns)\n",
        "        \n",
        "        return pd.concat([data_left,data_encoded],axis = 1)"
      ],
      "execution_count": 6,
      "outputs": []
    },
    {
      "cell_type": "code",
      "metadata": {
        "colab": {
          "base_uri": "https://localhost:8080/",
          "height": 238
        },
        "id": "AqwvC_kLUfFS",
        "outputId": "0d94cf94-8a27-4de5-a5c8-14e66a427e0f"
      },
      "source": [
        "#fill na values with zero\n",
        "df = df.fillna(0)\n",
        "df.head()"
      ],
      "execution_count": 7,
      "outputs": [
        {
          "output_type": "execute_result",
          "data": {
            "text/html": [
              "<div>\n",
              "<style scoped>\n",
              "    .dataframe tbody tr th:only-of-type {\n",
              "        vertical-align: middle;\n",
              "    }\n",
              "\n",
              "    .dataframe tbody tr th {\n",
              "        vertical-align: top;\n",
              "    }\n",
              "\n",
              "    .dataframe thead th {\n",
              "        text-align: right;\n",
              "    }\n",
              "</style>\n",
              "<table border=\"1\" class=\"dataframe\">\n",
              "  <thead>\n",
              "    <tr style=\"text-align: right;\">\n",
              "      <th></th>\n",
              "      <th>label</th>\n",
              "      <th>text</th>\n",
              "      <th>clean_text</th>\n",
              "      <th>tokenized_clean_text</th>\n",
              "      <th>tokenized_stem_text</th>\n",
              "    </tr>\n",
              "  </thead>\n",
              "  <tbody>\n",
              "    <tr>\n",
              "      <th>0</th>\n",
              "      <td>sexual</td>\n",
              "      <td>হালা পুত মদ খাওয় সময় রাত বেলা মদ খাই দিন বেল...</td>\n",
              "      <td>হালার পুত মদ খাওয়ার সময় রাতের বেলা মদ খাই দ...</td>\n",
              "      <td>['হালার', 'পুত', 'মদ', 'খাওয়ার', 'সময়', 'রাত...</td>\n",
              "      <td>['হালা', 'পুত', 'মদ', 'খাওয়', 'সময়', 'রাত', ...</td>\n",
              "    </tr>\n",
              "    <tr>\n",
              "      <th>1</th>\n",
              "      <td>acceptable</td>\n",
              "      <td>ঘরে শুট কেমন ক্যামেরা ছিল</td>\n",
              "      <td>ঘরে শুট কেমন ক্যামেরাতে ছিলেন</td>\n",
              "      <td>['ঘরে', 'শুট', 'কেমন', 'ক্যামেরাতে', 'ছিলেন']</td>\n",
              "      <td>['ঘরে', 'শুট', 'কেমন', 'ক্যামেরা', 'ছিল']</td>\n",
              "    </tr>\n",
              "    <tr>\n",
              "      <th>2</th>\n",
              "      <td>acceptable</td>\n",
              "      <td>অরে বাবা পাগল</td>\n",
              "      <td>অরে বাবা পাগল</td>\n",
              "      <td>['অরে', 'বাবা', 'পাগল']</td>\n",
              "      <td>['অরে', 'বাবা', 'পাগল']</td>\n",
              "    </tr>\n",
              "    <tr>\n",
              "      <th>3</th>\n",
              "      <td>acceptable</td>\n",
              "      <td>ক্যাপ্ট অফ বাংলাদেশ</td>\n",
              "      <td>ক্যাপ্টেন অফ বাংলাদেশ</td>\n",
              "      <td>['ক্যাপ্টেন', 'অফ', 'বাংলাদেশ']</td>\n",
              "      <td>['ক্যাপ্ট', 'অফ', 'বাংলাদেশ']</td>\n",
              "    </tr>\n",
              "    <tr>\n",
              "      <th>4</th>\n",
              "      <td>troll</td>\n",
              "      <td>পটকা মাছ</td>\n",
              "      <td>পটকা মাছ</td>\n",
              "      <td>['পটকা', 'মাছ']</td>\n",
              "      <td>['পটকা', 'মাছ']</td>\n",
              "    </tr>\n",
              "  </tbody>\n",
              "</table>\n",
              "</div>"
            ],
            "text/plain": [
              "        label  ...                                tokenized_stem_text\n",
              "0      sexual  ...  ['হালা', 'পুত', 'মদ', 'খাওয়', 'সময়', 'রাত', ...\n",
              "1  acceptable  ...          ['ঘরে', 'শুট', 'কেমন', 'ক্যামেরা', 'ছিল']\n",
              "2  acceptable  ...                            ['অরে', 'বাবা', 'পাগল']\n",
              "3  acceptable  ...                      ['ক্যাপ্ট', 'অফ', 'বাংলাদেশ']\n",
              "4       troll  ...                                    ['পটকা', 'মাছ']\n",
              "\n",
              "[5 rows x 5 columns]"
            ]
          },
          "metadata": {
            "tags": []
          },
          "execution_count": 7
        }
      ]
    },
    {
      "cell_type": "code",
      "metadata": {
        "colab": {
          "base_uri": "https://localhost:8080/"
        },
        "id": "fc4QSwkaqz06",
        "outputId": "0b7c3b81-e2e9-4153-86fd-3b51a29c2d6f"
      },
      "source": [
        "# label encoding for output\n",
        "\n",
        "sample_data = [2000,5000,10000,20000,30000,40000]\n",
        "\n",
        "def label_encoding(category,bool):\n",
        "  le = preprocessing.LabelEncoder()\n",
        "  le.fit(category)\n",
        "  encoded_labels = le.transform(category)\n",
        "  labels = np.array(encoded_labels) # Converting into numpy array\n",
        "  class_names =le.classes_ ## Define the class names again\n",
        "  if bool == True:\n",
        "    print(\"\\n\\t\\t\\t Label Encoding \",\"\\nClass Names:\",le.classes_)\n",
        "    for i in sample_data:\n",
        "      print(category[i],' ', encoded_labels[i],'\\n')\n",
        "    return labels\n",
        "\n",
        "df.labels = label_encoding(df.label,True)"
      ],
      "execution_count": 8,
      "outputs": [
        {
          "output_type": "stream",
          "text": [
            "\n",
            "\t\t\t Label Encoding  \n",
            "Class Names:--> ['acceptable' 'religious' 'sexual' 'threat' 'troll']\n",
            "acceptable   0 \n",
            "\n",
            "troll   4 \n",
            "\n",
            "acceptable   0 \n",
            "\n",
            "sexual   2 \n",
            "\n",
            "sexual   2 \n",
            "\n",
            "acceptable   0 \n",
            "\n"
          ],
          "name": "stdout"
        }
      ]
    },
    {
      "cell_type": "code",
      "metadata": {
        "id": "oBT1Gz_w4KyU"
      },
      "source": [
        "#confusion matrix\n",
        "\n",
        "def conf_matrix(pred,classfier,directory,filename):\n",
        "  predictions = pred\n",
        "  y_pred = np.array(predictions)\n",
        "  cm = confusion_matrix(y_test, y_pred) \n",
        "# Transform to df for easier plotting\n",
        "  \n",
        "  cm_df = pd.DataFrame(cm,\n",
        "                       index = ['acceptable' ,'religious' ,'sexual', 'threat', 'troll'], \n",
        "                       columns = ['acceptable' ,'religious' ,'sexual', 'threat', 'troll'])\n",
        "  plt.figure(figsize=(8,6))\n",
        "  sn.heatmap(cm_df, annot=True,cmap=\"YlGnBu\", fmt='g')\n",
        "  plt.title('\\n'+classfier+'Accuracy: {0:.2f}'.format(accuracy_score(y_test, y_pred)*100))\n",
        "  plt.ylabel('True label')\n",
        "  plt.xlabel('Predicted label')\n",
        "  plt.xticks(rotation = 45)\n",
        "  plt.yticks(rotation = 45)\n",
        "  plt.savefig(\"/content/drive/MyDrive/Colab Notebooks/multi class bangla sentiment analysis/visualization/result_analysis/\"+directory+\"/\"+filename+\".png\")\n",
        "  plt.show()\n",
        "  plt.close()"
      ],
      "execution_count": 9,
      "outputs": []
    },
    {
      "cell_type": "code",
      "metadata": {
        "id": "3fvEdw3n4tlZ"
      },
      "source": [
        "#report generation\n",
        "\n",
        "def report_generate(pred,classfier,directory,filename):\n",
        "  report = pd.DataFrame(classification_report(y_true = y_test, y_pred = pred, output_dict=True)).transpose()\n",
        "  report = report.rename(index={'0': 'acceptable','1':'religious','2':'sexual','3':'threat','4':'troll'})\n",
        "  report[['precision','recall','f1-score']]=report[['precision','recall','f1-score']].apply(lambda x: round(x*100,2))\n",
        "  report=report.drop([\"support\"],axis=1)\n",
        "  columns = ['precision','recall','f1-score']\n",
        "  report.columns = columns\n",
        "  plt = report.plot(kind='bar',figsize=(12,6))\n",
        "  \n",
        "  plot=plt.tick_params(rotation=40)\n",
        "  plt.figure.savefig(\"/content/drive/MyDrive/Colab Notebooks/multi class bangla sentiment analysis/visualization/result_analysis/\"+directory+\"/\"+filename+\".png\")\n",
        "  \n",
        "  return plot,report"
      ],
      "execution_count": 10,
      "outputs": []
    },
    {
      "cell_type": "code",
      "metadata": {
        "colab": {
          "base_uri": "https://localhost:8080/"
        },
        "id": "hUBoLyirYIsS",
        "outputId": "f044b91e-24b9-49e0-cff4-82c7be5d6825"
      },
      "source": [
        "#divide the model for trainning and testing\n",
        "df.text=df.text.apply(str)\n",
        "X = df.text.values\n",
        "y = df.labels\n",
        "categories = ['label_sexual','label_religious','label_troll','label_threat','label_acceptable']  #targeted labels\n",
        "\n",
        "X_train, X_test, y_train, y_test = train_test_split(X, y, test_size=0.3, random_state = 42)\n",
        "\n",
        "#checking...\n",
        "print(X_train.shape)\n",
        "print(X_test.shape)\n",
        "print(y_train.shape)\n",
        "print(y_test.shape)\n"
      ],
      "execution_count": 11,
      "outputs": [
        {
          "output_type": "stream",
          "text": [
            "(30800,)\n",
            "(13201,)\n",
            "(30800,)\n",
            "(13201,)\n"
          ],
          "name": "stdout"
        }
      ]
    },
    {
      "cell_type": "markdown",
      "metadata": {
        "id": "Dbl5yZBCAub2"
      },
      "source": [
        "**MultinomialNB model with Tfidf using pipeline**"
      ]
    },
    {
      "cell_type": "code",
      "metadata": {
        "colab": {
          "base_uri": "https://localhost:8080/"
        },
        "id": "HVLSSmKxbOs3",
        "outputId": "8b078b4f-5f05-4010-a039-b15f20089ee3"
      },
      "source": [
        "# Define a pipeline combining a text feature extractor with multi lable classifier\n",
        "TFIDF_NB_pipeline = Pipeline([\n",
        "\n",
        "                ('tfidf', TfidfVectorizer(tokenizer=lambda x: x.split(),lowercase=False,max_features=6000,min_df=5,ngram_range=(1,2))),\n",
        "                ('clf', OneVsRestClassifier(MultinomialNB(\n",
        "                    fit_prior=True, class_prior=None))),\n",
        "            ])\n",
        "\n",
        "TFIDF_NB_pipeline.fit(X_train, y_train)\n",
        "TFIDF_NB_pipeline_prediction = TFIDF_NB_pipeline.predict(X_test)\n",
        "\n",
        "print('accuracy %s' % accuracy_score(TFIDF_NB_pipeline_prediction, y_test))"
      ],
      "execution_count": 12,
      "outputs": [
        {
          "output_type": "stream",
          "text": [
            "accuracy 0.7520642375577608\n"
          ],
          "name": "stdout"
        }
      ]
    },
    {
      "cell_type": "code",
      "metadata": {
        "colab": {
          "base_uri": "https://localhost:8080/",
          "height": 695
        },
        "id": "xs77gAvsxpuu",
        "outputId": "3f5ce5e1-746b-414c-9ce4-12ee8e385e8c"
      },
      "source": [
        "NB_report=report_generate(TFIDF_NB_pipeline_prediction,\"NaiveBayes\",\"MultiNB\",\"multiNB_report\")\n",
        "NB_report[1]"
      ],
      "execution_count": 13,
      "outputs": [
        {
          "output_type": "execute_result",
          "data": {
            "text/html": [
              "<div>\n",
              "<style scoped>\n",
              "    .dataframe tbody tr th:only-of-type {\n",
              "        vertical-align: middle;\n",
              "    }\n",
              "\n",
              "    .dataframe tbody tr th {\n",
              "        vertical-align: top;\n",
              "    }\n",
              "\n",
              "    .dataframe thead th {\n",
              "        text-align: right;\n",
              "    }\n",
              "</style>\n",
              "<table border=\"1\" class=\"dataframe\">\n",
              "  <thead>\n",
              "    <tr style=\"text-align: right;\">\n",
              "      <th></th>\n",
              "      <th>precision</th>\n",
              "      <th>recall</th>\n",
              "      <th>f1-score</th>\n",
              "    </tr>\n",
              "  </thead>\n",
              "  <tbody>\n",
              "    <tr>\n",
              "      <th>acceptable</th>\n",
              "      <td>75.84</td>\n",
              "      <td>87.53</td>\n",
              "      <td>81.27</td>\n",
              "    </tr>\n",
              "    <tr>\n",
              "      <th>religious</th>\n",
              "      <td>74.21</td>\n",
              "      <td>82.26</td>\n",
              "      <td>78.03</td>\n",
              "    </tr>\n",
              "    <tr>\n",
              "      <th>sexual</th>\n",
              "      <td>77.14</td>\n",
              "      <td>67.19</td>\n",
              "      <td>71.82</td>\n",
              "    </tr>\n",
              "    <tr>\n",
              "      <th>threat</th>\n",
              "      <td>88.31</td>\n",
              "      <td>44.60</td>\n",
              "      <td>59.27</td>\n",
              "    </tr>\n",
              "    <tr>\n",
              "      <th>troll</th>\n",
              "      <td>72.20</td>\n",
              "      <td>64.27</td>\n",
              "      <td>68.00</td>\n",
              "    </tr>\n",
              "    <tr>\n",
              "      <th>accuracy</th>\n",
              "      <td>75.21</td>\n",
              "      <td>75.21</td>\n",
              "      <td>75.21</td>\n",
              "    </tr>\n",
              "    <tr>\n",
              "      <th>macro avg</th>\n",
              "      <td>77.54</td>\n",
              "      <td>69.17</td>\n",
              "      <td>71.68</td>\n",
              "    </tr>\n",
              "    <tr>\n",
              "      <th>weighted avg</th>\n",
              "      <td>75.40</td>\n",
              "      <td>75.21</td>\n",
              "      <td>74.73</td>\n",
              "    </tr>\n",
              "  </tbody>\n",
              "</table>\n",
              "</div>"
            ],
            "text/plain": [
              "              precision  recall  f1-score\n",
              "acceptable        75.84   87.53     81.27\n",
              "religious         74.21   82.26     78.03\n",
              "sexual            77.14   67.19     71.82\n",
              "threat            88.31   44.60     59.27\n",
              "troll             72.20   64.27     68.00\n",
              "accuracy          75.21   75.21     75.21\n",
              "macro avg         77.54   69.17     71.68\n",
              "weighted avg      75.40   75.21     74.73"
            ]
          },
          "metadata": {
            "tags": []
          },
          "execution_count": 13
        },
        {
          "output_type": "display_data",
          "data": {
            "image/png": "[encoded data removed]",
            "text/plain": [
              "<Figure size 864x432 with 1 Axes>"
            ]
          },
          "metadata": {
            "tags": [],
            "needs_background": "light"
          }
        }
      ]
    },
    {
      "cell_type": "code",
      "metadata": {
        "colab": {
          "base_uri": "https://localhost:8080/",
          "height": 455
        },
        "id": "3l7nNgiezjXm",
        "outputId": "424a2fcc-9424-4cb1-f99a-ce20fb2c02d7"
      },
      "source": [
        "conf_matrix(TFIDF_NB_pipeline_prediction,\"NaiveBayes\",\"MultiNB\",\"multinb_confusion\")"
      ],
      "execution_count": 14,
      "outputs": [
        {
          "output_type": "display_data",
          "data": {
            "image/png": "[encoded data removed]",
            "text/plain": [
              "<Figure size 576x432 with 2 Axes>"
            ]
          },
          "metadata": {
            "tags": [],
            "needs_background": "light"
          }
        }
      ]
    },
    {
      "cell_type": "markdown",
      "metadata": {
        "id": "kzQnBKvDDBfk"
      },
      "source": [
        "**SGDclassifier model with TFIDF using pipeline**"
      ]
    },
    {
      "cell_type": "code",
      "metadata": {
        "colab": {
          "base_uri": "https://localhost:8080/"
        },
        "id": "9Ywf6bd0bv08",
        "outputId": "191e5d40-5459-424f-924c-a952e45b6364"
      },
      "source": [
        "\n",
        "TFIDF_SGD_pipeline = Pipeline([\n",
        "                               \n",
        "                ('tfidf', TfidfVectorizer(tokenizer=lambda x: x.split(),lowercase=False,max_features=6000,min_df=5,ngram_range=(1,2))),\n",
        "                ('clf', OneVsRestClassifier(SGDClassifier(loss='hinge', penalty='l2', alpha=1e-4, random_state=42, max_iter=90, tol=None)))\n",
        "            ])\n",
        "\n",
        "\n",
        "TFIDF_SGD_pipeline.fit(X_train, y_train)\n",
        "TFIDF_SGD_pipeline_prediction = TFIDF_SGD_pipeline.predict(X_test)\n",
        "\n",
        "print('accuracy %s' % accuracy_score(TFIDF_SGD_pipeline_prediction, y_test))\n"
      ],
      "execution_count": 15,
      "outputs": [
        {
          "output_type": "stream",
          "text": [
            "accuracy 0.7992576319975759\n"
          ],
          "name": "stdout"
        }
      ]
    },
    {
      "cell_type": "code",
      "metadata": {
        "colab": {
          "base_uri": "https://localhost:8080/",
          "height": 695
        },
        "id": "heiODlIOJCR7",
        "outputId": "156e16e1-6ec7-4dc7-c4c3-65b135c60e8f"
      },
      "source": [
        "SGD_report=report_generate(TFIDF_SGD_pipeline_prediction,\"SGD classifier\",\"SGD\",\"SGD_report\")\n",
        "SGD_report[1]"
      ],
      "execution_count": 16,
      "outputs": [
        {
          "output_type": "execute_result",
          "data": {
            "text/html": [
              "<div>\n",
              "<style scoped>\n",
              "    .dataframe tbody tr th:only-of-type {\n",
              "        vertical-align: middle;\n",
              "    }\n",
              "\n",
              "    .dataframe tbody tr th {\n",
              "        vertical-align: top;\n",
              "    }\n",
              "\n",
              "    .dataframe thead th {\n",
              "        text-align: right;\n",
              "    }\n",
              "</style>\n",
              "<table border=\"1\" class=\"dataframe\">\n",
              "  <thead>\n",
              "    <tr style=\"text-align: right;\">\n",
              "      <th></th>\n",
              "      <th>precision</th>\n",
              "      <th>recall</th>\n",
              "      <th>f1-score</th>\n",
              "    </tr>\n",
              "  </thead>\n",
              "  <tbody>\n",
              "    <tr>\n",
              "      <th>acceptable</th>\n",
              "      <td>73.80</td>\n",
              "      <td>92.73</td>\n",
              "      <td>82.19</td>\n",
              "    </tr>\n",
              "    <tr>\n",
              "      <th>religious</th>\n",
              "      <td>92.33</td>\n",
              "      <td>85.80</td>\n",
              "      <td>88.95</td>\n",
              "    </tr>\n",
              "    <tr>\n",
              "      <th>sexual</th>\n",
              "      <td>84.10</td>\n",
              "      <td>73.19</td>\n",
              "      <td>78.27</td>\n",
              "    </tr>\n",
              "    <tr>\n",
              "      <th>threat</th>\n",
              "      <td>86.67</td>\n",
              "      <td>58.25</td>\n",
              "      <td>69.67</td>\n",
              "    </tr>\n",
              "    <tr>\n",
              "      <th>troll</th>\n",
              "      <td>79.15</td>\n",
              "      <td>66.71</td>\n",
              "      <td>72.40</td>\n",
              "    </tr>\n",
              "    <tr>\n",
              "      <th>accuracy</th>\n",
              "      <td>79.93</td>\n",
              "      <td>79.93</td>\n",
              "      <td>79.93</td>\n",
              "    </tr>\n",
              "    <tr>\n",
              "      <th>macro avg</th>\n",
              "      <td>83.21</td>\n",
              "      <td>75.34</td>\n",
              "      <td>78.29</td>\n",
              "    </tr>\n",
              "    <tr>\n",
              "      <th>weighted avg</th>\n",
              "      <td>80.78</td>\n",
              "      <td>79.93</td>\n",
              "      <td>79.65</td>\n",
              "    </tr>\n",
              "  </tbody>\n",
              "</table>\n",
              "</div>"
            ],
            "text/plain": [
              "              precision  recall  f1-score\n",
              "acceptable        73.80   92.73     82.19\n",
              "religious         92.33   85.80     88.95\n",
              "sexual            84.10   73.19     78.27\n",
              "threat            86.67   58.25     69.67\n",
              "troll             79.15   66.71     72.40\n",
              "accuracy          79.93   79.93     79.93\n",
              "macro avg         83.21   75.34     78.29\n",
              "weighted avg      80.78   79.93     79.65"
            ]
          },
          "metadata": {
            "tags": []
          },
          "execution_count": 16
        },
        {
          "output_type": "display_data",
          "data": {
            "image/png": "[encoded data removed]",
            "text/plain": [
              "<Figure size 864x432 with 1 Axes>"
            ]
          },
          "metadata": {
            "tags": [],
            "needs_background": "light"
          }
        }
      ]
    },
    {
      "cell_type": "code",
      "metadata": {
        "colab": {
          "base_uri": "https://localhost:8080/",
          "height": 455
        },
        "id": "QVNF_N9k2qyY",
        "outputId": "cbda48b0-b730-47a2-c798-36c4f5905d7a"
      },
      "source": [
        "conf_matrix(TFIDF_SGD_pipeline_prediction,\"SGD classifier\",\"SGD\",\"SGD_confusion\")"
      ],
      "execution_count": 17,
      "outputs": [
        {
          "output_type": "display_data",
          "data": {
            "image/png": "[encoded data removed]",
            "text/plain": [
              "<Figure size 576x432 with 2 Axes>"
            ]
          },
          "metadata": {
            "tags": [],
            "needs_background": "light"
          }
        }
      ]
    },
    {
      "cell_type": "markdown",
      "metadata": {
        "id": "wGiok4a-DPke"
      },
      "source": [
        "**Logistic Regression model with TFIDF using pipeline**"
      ]
    },
    {
      "cell_type": "code",
      "metadata": {
        "colab": {
          "base_uri": "https://localhost:8080/"
        },
        "id": "vU8-dKYJiEJ-",
        "outputId": "b5b49bbd-c8af-408a-9318-e8f8b800ce53"
      },
      "source": [
        "TFIDF_LR_pipeline = Pipeline([\n",
        "\n",
        "                ('tfidf', TfidfVectorizer(tokenizer=lambda x: x.split(),lowercase=False,max_features=6000,min_df=5,ngram_range=(1,2))),\n",
        "                ('clf', OneVsRestClassifier(LogisticRegression(C=0.7,random_state=42,tol=0.0001,max_iter=200)))\n",
        "            ])\n",
        "\n",
        "TFIDF_LR_pipeline.fit(X_train, y_train)\n",
        "TFIDF_LR_pipeline_prediction = TFIDF_LR_pipeline.predict(X_test)\n",
        "\n",
        "print('accuracy %s' % accuracy_score(TFIDF_LR_pipeline_prediction, y_test))\n",
        "\n"
      ],
      "execution_count": 18,
      "outputs": [
        {
          "output_type": "stream",
          "text": [
            "accuracy 0.7873645935913945\n"
          ],
          "name": "stdout"
        }
      ]
    },
    {
      "cell_type": "code",
      "metadata": {
        "colab": {
          "base_uri": "https://localhost:8080/",
          "height": 455
        },
        "id": "Nk4hWPDB3G1P",
        "outputId": "754c2f55-f2a9-4256-9400-f232a9ec1499"
      },
      "source": [
        "conf_matrix(TFIDF_LR_pipeline_prediction,\"Logistic regressor classifier\",\"Logistic Regression\",\"LR_confusion\")"
      ],
      "execution_count": 19,
      "outputs": [
        {
          "output_type": "display_data",
          "data": {
            "image/png": "[encoded data removed]",
            "text/plain": [
              "<Figure size 576x432 with 2 Axes>"
            ]
          },
          "metadata": {
            "tags": [],
            "needs_background": "light"
          }
        }
      ]
    },
    {
      "cell_type": "code",
      "metadata": {
        "colab": {
          "base_uri": "https://localhost:8080/",
          "height": 695
        },
        "id": "rfPg0kgpJOzp",
        "outputId": "debea64d-3187-4d12-8021-0f2a179743d8"
      },
      "source": [
        "SGD_report=report_generate(TFIDF_LR_pipeline_prediction,\"Logistic regressor classifier\",\"Logistic Regression\",\"LR_report\")\n",
        "SGD_report[1]"
      ],
      "execution_count": 20,
      "outputs": [
        {
          "output_type": "execute_result",
          "data": {
            "text/html": [
              "<div>\n",
              "<style scoped>\n",
              "    .dataframe tbody tr th:only-of-type {\n",
              "        vertical-align: middle;\n",
              "    }\n",
              "\n",
              "    .dataframe tbody tr th {\n",
              "        vertical-align: top;\n",
              "    }\n",
              "\n",
              "    .dataframe thead th {\n",
              "        text-align: right;\n",
              "    }\n",
              "</style>\n",
              "<table border=\"1\" class=\"dataframe\">\n",
              "  <thead>\n",
              "    <tr style=\"text-align: right;\">\n",
              "      <th></th>\n",
              "      <th>precision</th>\n",
              "      <th>recall</th>\n",
              "      <th>f1-score</th>\n",
              "    </tr>\n",
              "  </thead>\n",
              "  <tbody>\n",
              "    <tr>\n",
              "      <th>acceptable</th>\n",
              "      <td>73.90</td>\n",
              "      <td>91.72</td>\n",
              "      <td>81.85</td>\n",
              "    </tr>\n",
              "    <tr>\n",
              "      <th>religious</th>\n",
              "      <td>90.97</td>\n",
              "      <td>84.12</td>\n",
              "      <td>87.41</td>\n",
              "    </tr>\n",
              "    <tr>\n",
              "      <th>sexual</th>\n",
              "      <td>83.31</td>\n",
              "      <td>70.73</td>\n",
              "      <td>76.51</td>\n",
              "    </tr>\n",
              "    <tr>\n",
              "      <th>threat</th>\n",
              "      <td>86.59</td>\n",
              "      <td>48.68</td>\n",
              "      <td>62.32</td>\n",
              "    </tr>\n",
              "    <tr>\n",
              "      <th>troll</th>\n",
              "      <td>75.32</td>\n",
              "      <td>67.91</td>\n",
              "      <td>71.42</td>\n",
              "    </tr>\n",
              "    <tr>\n",
              "      <th>accuracy</th>\n",
              "      <td>78.74</td>\n",
              "      <td>78.74</td>\n",
              "      <td>78.74</td>\n",
              "    </tr>\n",
              "    <tr>\n",
              "      <th>macro avg</th>\n",
              "      <td>82.02</td>\n",
              "      <td>72.63</td>\n",
              "      <td>75.90</td>\n",
              "    </tr>\n",
              "    <tr>\n",
              "      <th>weighted avg</th>\n",
              "      <td>79.48</td>\n",
              "      <td>78.74</td>\n",
              "      <td>78.40</td>\n",
              "    </tr>\n",
              "  </tbody>\n",
              "</table>\n",
              "</div>"
            ],
            "text/plain": [
              "              precision  recall  f1-score\n",
              "acceptable        73.90   91.72     81.85\n",
              "religious         90.97   84.12     87.41\n",
              "sexual            83.31   70.73     76.51\n",
              "threat            86.59   48.68     62.32\n",
              "troll             75.32   67.91     71.42\n",
              "accuracy          78.74   78.74     78.74\n",
              "macro avg         82.02   72.63     75.90\n",
              "weighted avg      79.48   78.74     78.40"
            ]
          },
          "metadata": {
            "tags": []
          },
          "execution_count": 20
        },
        {
          "output_type": "display_data",
          "data": {
            "image/png": "[encoded data removed]",
            "text/plain": [
              "<Figure size 864x432 with 1 Axes>"
            ]
          },
          "metadata": {
            "tags": [],
            "needs_background": "light"
          }
        }
      ]
    },
    {
      "cell_type": "markdown",
      "metadata": {
        "id": "oCVihTBkDYge"
      },
      "source": [
        "**RandomforrestClassifier model with TFIDF using pipeline**"
      ]
    },
    {
      "cell_type": "code",
      "metadata": {
        "colab": {
          "base_uri": "https://localhost:8080/"
        },
        "id": "Z-60fm1ipxBJ",
        "outputId": "aed7b063-8cb2-45b8-ce41-6463ce24860b"
      },
      "source": [
        "from sklearn.ensemble import RandomForestClassifier\n",
        "TFIDF_DT_pipeline = Pipeline([\n",
        "                ('tfidf', TfidfVectorizer(tokenizer=lambda x: x.split(),lowercase=False,max_features=6000,min_df=5,ngram_range=(1,2))),\n",
        "                ('clf', OneVsRestClassifier(RandomForestClassifier(n_estimators=200)))\n",
        "            ])\n",
        "\n",
        "\n",
        "TFIDF_DT_pipeline.fit(X_train, y_train)\n",
        "TFIDF_DT_pipeline_prediction = TFIDF_DT_pipeline.predict(X_test)\n",
        "\n",
        "print('accuracy %s' % accuracy_score(TFIDF_DT_pipeline_prediction, y_test))\n",
        "\n"
      ],
      "execution_count": 21,
      "outputs": [
        {
          "output_type": "stream",
          "text": [
            "accuracy 0.8024392091508219\n"
          ],
          "name": "stdout"
        }
      ]
    },
    {
      "cell_type": "code",
      "metadata": {
        "colab": {
          "base_uri": "https://localhost:8080/",
          "height": 455
        },
        "id": "hHVEePHH3ZW3",
        "outputId": "019e28da-a495-4eaf-ceb2-d3e3a7752384"
      },
      "source": [
        "conf_matrix(TFIDF_DT_pipeline_prediction,\"RandForrest classifier\",\"Random forrest\",\"RF_confusion\")"
      ],
      "execution_count": 22,
      "outputs": [
        {
          "output_type": "display_data",
          "data": {
            "image/png": "[encoded data removed]",
            "text/plain": [
              "<Figure size 576x432 with 2 Axes>"
            ]
          },
          "metadata": {
            "tags": [],
            "needs_background": "light"
          }
        }
      ]
    },
    {
      "cell_type": "code",
      "metadata": {
        "colab": {
          "base_uri": "https://localhost:8080/",
          "height": 695
        },
        "id": "G1qDD74RJbBd",
        "outputId": "6c5ac1e3-3b73-45eb-d5b5-7e214fccaf51"
      },
      "source": [
        "SGD_report=report_generate(TFIDF_DT_pipeline_prediction,\"RandForrest classifier\",\"Random forrest\",\"RF_report\")\n",
        "SGD_report[1]"
      ],
      "execution_count": 23,
      "outputs": [
        {
          "output_type": "execute_result",
          "data": {
            "text/html": [
              "<div>\n",
              "<style scoped>\n",
              "    .dataframe tbody tr th:only-of-type {\n",
              "        vertical-align: middle;\n",
              "    }\n",
              "\n",
              "    .dataframe tbody tr th {\n",
              "        vertical-align: top;\n",
              "    }\n",
              "\n",
              "    .dataframe thead th {\n",
              "        text-align: right;\n",
              "    }\n",
              "</style>\n",
              "<table border=\"1\" class=\"dataframe\">\n",
              "  <thead>\n",
              "    <tr style=\"text-align: right;\">\n",
              "      <th></th>\n",
              "      <th>precision</th>\n",
              "      <th>recall</th>\n",
              "      <th>f1-score</th>\n",
              "    </tr>\n",
              "  </thead>\n",
              "  <tbody>\n",
              "    <tr>\n",
              "      <th>acceptable</th>\n",
              "      <td>77.21</td>\n",
              "      <td>88.91</td>\n",
              "      <td>82.65</td>\n",
              "    </tr>\n",
              "    <tr>\n",
              "      <th>religious</th>\n",
              "      <td>89.72</td>\n",
              "      <td>87.89</td>\n",
              "      <td>88.79</td>\n",
              "    </tr>\n",
              "    <tr>\n",
              "      <th>sexual</th>\n",
              "      <td>83.15</td>\n",
              "      <td>75.06</td>\n",
              "      <td>78.89</td>\n",
              "    </tr>\n",
              "    <tr>\n",
              "      <th>threat</th>\n",
              "      <td>80.92</td>\n",
              "      <td>64.77</td>\n",
              "      <td>71.95</td>\n",
              "    </tr>\n",
              "    <tr>\n",
              "      <th>troll</th>\n",
              "      <td>76.27</td>\n",
              "      <td>69.45</td>\n",
              "      <td>72.70</td>\n",
              "    </tr>\n",
              "    <tr>\n",
              "      <th>accuracy</th>\n",
              "      <td>80.24</td>\n",
              "      <td>80.24</td>\n",
              "      <td>80.24</td>\n",
              "    </tr>\n",
              "    <tr>\n",
              "      <th>macro avg</th>\n",
              "      <td>81.45</td>\n",
              "      <td>77.21</td>\n",
              "      <td>79.00</td>\n",
              "    </tr>\n",
              "    <tr>\n",
              "      <th>weighted avg</th>\n",
              "      <td>80.41</td>\n",
              "      <td>80.24</td>\n",
              "      <td>80.07</td>\n",
              "    </tr>\n",
              "  </tbody>\n",
              "</table>\n",
              "</div>"
            ],
            "text/plain": [
              "              precision  recall  f1-score\n",
              "acceptable        77.21   88.91     82.65\n",
              "religious         89.72   87.89     88.79\n",
              "sexual            83.15   75.06     78.89\n",
              "threat            80.92   64.77     71.95\n",
              "troll             76.27   69.45     72.70\n",
              "accuracy          80.24   80.24     80.24\n",
              "macro avg         81.45   77.21     79.00\n",
              "weighted avg      80.41   80.24     80.07"
            ]
          },
          "metadata": {
            "tags": []
          },
          "execution_count": 23
        },
        {
          "output_type": "display_data",
          "data": {
            "image/png": "[encoded data removed]",
            "text/plain": [
              "<Figure size 864x432 with 1 Axes>"
            ]
          },
          "metadata": {
            "tags": [],
            "needs_background": "light"
          }
        }
      ]
    },
    {
      "cell_type": "code",
      "metadata": {
        "id": "MBOjqzeoqFAQ",
        "colab": {
          "base_uri": "https://localhost:8080/",
          "height": 146
        },
        "outputId": "3135d03c-d859-4603-a038-2d9d96c263ef"
      },
      "source": [
        "'''params = { \"objective\": \"multi:softmax\", 'num_class': 5, 'max_depth': 5, 'learning_rate': 0.01, 'n_estimators': 200}\n",
        "\n",
        "TFIDF_XGB_pipeline = Pipeline([\n",
        "                ('tfidf', TfidfVectorizer(tokenizer=lambda x: x.split(),lowercase=False,stop_words=stopwords,max_features=10000,min_df=5)),\n",
        "                ('clf', OneVsRestClassifier(XGBClassifier(**params)))\n",
        "            ])\n",
        "\n",
        "\n",
        "TFIDF_XGB_pipeline.fit(X_train, y_train)\n",
        "prediction = TFIDF_XGB_pipeline.predict(X_test)\n",
        "\n",
        "print('accuracy %s' % accuracy_score(prediction, y_test))\n",
        "print(classification_report(y_test, prediction, target_names=categories))\n",
        "\n",
        "\n"
      ],
      "execution_count": 24,
      "outputs": [
        {
          "output_type": "error",
          "ename": "SyntaxError",
          "evalue": "ignored",
          "traceback": [
            "\u001b[0;36m  File \u001b[0;32m\"<ipython-input-24-5e8f4c22b5f2>\"\u001b[0;36m, line \u001b[0;32m13\u001b[0m\n\u001b[0;31m    print(classification_report(y_test, prediction, target_names=categories))\u001b[0m\n\u001b[0m                                                                             \n^\u001b[0m\n\u001b[0;31mSyntaxError\u001b[0m\u001b[0;31m:\u001b[0m EOF while scanning triple-quoted string literal\n"
          ]
        }
      ]
    },
    {
      "cell_type": "code",
      "metadata": {
        "id": "Q6kRmxUqqkIZ"
      },
      "source": [
        ""
      ],
      "execution_count": null,
      "outputs": []
    }
  ]
}