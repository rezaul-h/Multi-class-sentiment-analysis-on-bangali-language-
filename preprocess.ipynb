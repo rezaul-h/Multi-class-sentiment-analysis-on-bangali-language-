{
 "cells": [
  {
   "cell_type": "code",
   "execution_count": 1,
   "id": "global-equation",
   "metadata": {},
   "outputs": [],
   "source": [
    "import pandas as pd\n",
    "import numpy as np\n",
    "import matplotlib.pyplot as plt\n",
    "import seaborn as sns"
   ]
  },
  {
   "cell_type": "code",
   "execution_count": 6,
   "id": "arranged-annual",
   "metadata": {},
   "outputs": [
    {
     "name": "stdout",
     "output_type": "stream",
     "text": [
      "Requirement already satisfied: openpyxl in c:\\users\\ziaul\\appdata\\local\\programs\\python\\python37\\lib\\site-packages (3.0.7)"
     ]
    },
    {
     "name": "stderr",
     "output_type": "stream",
     "text": [
      "WARNING: You are using pip version 21.0.1; however, version 21.1.2 is available.\n",
      "You should consider upgrading via the 'c:\\users\\ziaul\\appdata\\local\\programs\\python\\python37\\python.exe -m pip install --upgrade pip' command.\n"
     ]
    },
    {
     "name": "stdout",
     "output_type": "stream",
     "text": [
      "\n",
      "Requirement already satisfied: et-xmlfile in c:\\users\\ziaul\\appdata\\local\\programs\\python\\python37\\lib\\site-packages (from openpyxl) (1.1.0)\n",
      "Collecting bnlp_toolkit\n",
      "  Downloading bnlp_toolkit-3.1.1-py3-none-any.whl (16 kB)\n",
      "Requirement already satisfied: numpy in c:\\users\\ziaul\\appdata\\local\\programs\\python\\python37\\lib\\site-packages (from bnlp_toolkit) (1.18.5)\n",
      "Collecting sentencepiece\n",
      "  Downloading sentencepiece-0.1.96-cp37-cp37m-win_amd64.whl (1.1 MB)\n",
      "Collecting sklearn-crfsuite\n",
      "  Downloading sklearn_crfsuite-0.3.6-py2.py3-none-any.whl (12 kB)\n",
      "Collecting gensim==4.0.1\n",
      "  Using cached gensim-4.0.1-cp37-cp37m-win_amd64.whl (23.9 MB)\n",
      "Requirement already satisfied: wasabi in c:\\users\\ziaul\\appdata\\local\\programs\\python\\python37\\lib\\site-packages (from bnlp_toolkit) (0.8.2)\n",
      "Requirement already satisfied: scipy in c:\\users\\ziaul\\appdata\\local\\programs\\python\\python37\\lib\\site-packages (from bnlp_toolkit) (1.6.3)\n",
      "Requirement already satisfied: nltk in c:\\users\\ziaul\\appdata\\local\\programs\\python\\python37\\lib\\site-packages (from bnlp_toolkit) (3.5)\n",
      "Collecting Cython==0.29.21\n",
      "  Using cached Cython-0.29.21-cp37-cp37m-win_amd64.whl (1.6 MB)\n",
      "Requirement already satisfied: smart-open>=1.8.1 in c:\\users\\ziaul\\appdata\\local\\programs\\python\\python37\\lib\\site-packages (from gensim==4.0.1->bnlp_toolkit) (3.0.0)\n",
      "Requirement already satisfied: requests in c:\\users\\ziaul\\appdata\\local\\programs\\python\\python37\\lib\\site-packages (from smart-open>=1.8.1->gensim==4.0.1->bnlp_toolkit) (2.24.0)\n",
      "Requirement already satisfied: joblib in c:\\users\\ziaul\\appdata\\local\\programs\\python\\python37\\lib\\site-packages (from nltk->bnlp_toolkit) (1.0.1)\n",
      "Requirement already satisfied: regex in c:\\users\\ziaul\\appdata\\local\\programs\\python\\python37\\lib\\site-packages (from nltk->bnlp_toolkit) (2020.11.13)\n",
      "Requirement already satisfied: click in c:\\users\\ziaul\\appdata\\local\\programs\\python\\python37\\lib\\site-packages (from nltk->bnlp_toolkit) (7.1.2)\n",
      "Requirement already satisfied: tqdm in c:\\users\\ziaul\\appdata\\local\\programs\\python\\python37\\lib\\site-packages (from nltk->bnlp_toolkit) (4.59.0)\n",
      "Requirement already satisfied: idna<3,>=2.5 in c:\\users\\ziaul\\appdata\\local\\programs\\python\\python37\\lib\\site-packages (from requests->smart-open>=1.8.1->gensim==4.0.1->bnlp_toolkit) (2.10)\n",
      "Requirement already satisfied: urllib3!=1.25.0,!=1.25.1,<1.26,>=1.21.1 in c:\\users\\ziaul\\appdata\\local\\programs\\python\\python37\\lib\\site-packages (from requests->smart-open>=1.8.1->gensim==4.0.1->bnlp_toolkit) (1.25.10)\n",
      "Requirement already satisfied: certifi>=2017.4.17 in c:\\users\\ziaul\\appdata\\local\\programs\\python\\python37\\lib\\site-packages (from requests->smart-open>=1.8.1->gensim==4.0.1->bnlp_toolkit) (2020.6.20)\n",
      "Requirement already satisfied: chardet<4,>=3.0.2 in c:\\users\\ziaul\\appdata\\local\\programs\\python\\python37\\lib\\site-packages (from requests->smart-open>=1.8.1->gensim==4.0.1->bnlp_toolkit) (3.0.4)\n",
      "Collecting python-crfsuite>=0.8.3\n",
      "  Downloading python_crfsuite-0.9.7-cp37-cp37m-win_amd64.whl (154 kB)\n",
      "Collecting tabulate\n",
      "  Downloading tabulate-0.8.9-py3-none-any.whl (25 kB)\n",
      "Requirement already satisfied: six in c:\\users\\ziaul\\appdata\\roaming\\python\\python37\\site-packages (from sklearn-crfsuite->bnlp_toolkit) (1.15.0)\n",
      "Installing collected packages: tabulate, python-crfsuite, Cython, sklearn-crfsuite, sentencepiece, gensim, bnlp-toolkit\n",
      "  Attempting uninstall: Cython\n",
      "    Found existing installation: Cython 0.29.14\n",
      "    Uninstalling Cython-0.29.14:\n",
      "      Successfully uninstalled Cython-0.29.14\n",
      "  Attempting uninstall: gensim\n",
      "    Found existing installation: gensim 3.8.3\n",
      "    Uninstalling gensim-3.8.3:\n",
      "      Successfully uninstalled gensim-3.8.3\n",
      "Successfully installed Cython-0.29.21 bnlp-toolkit-3.1.1 gensim-4.0.1 python-crfsuite-0.9.7 sentencepiece-0.1.96 sklearn-crfsuite-0.3.6 tabulate-0.8.9\n"
     ]
    },
    {
     "name": "stderr",
     "output_type": "stream",
     "text": [
      "WARNING: You are using pip version 21.0.1; however, version 21.1.2 is available.\n",
      "You should consider upgrading via the 'c:\\users\\ziaul\\appdata\\local\\programs\\python\\python37\\python.exe -m pip install --upgrade pip' command.\n"
     ]
    }
   ],
   "source": [
    "!pip install openpyxl \n",
    "!pip install bnlp_toolkit\n"
   ]
  },
  {
   "cell_type": "code",
   "execution_count": 5,
   "id": "early-president",
   "metadata": {},
   "outputs": [
    {
     "data": {
      "text/html": [
       "<div>\n",
       "<style scoped>\n",
       "    .dataframe tbody tr th:only-of-type {\n",
       "        vertical-align: middle;\n",
       "    }\n",
       "\n",
       "    .dataframe tbody tr th {\n",
       "        vertical-align: top;\n",
       "    }\n",
       "\n",
       "    .dataframe thead th {\n",
       "        text-align: right;\n",
       "    }\n",
       "</style>\n",
       "<table border=\"1\" class=\"dataframe\">\n",
       "  <thead>\n",
       "    <tr style=\"text-align: right;\">\n",
       "      <th></th>\n",
       "      <th>comment</th>\n",
       "      <th>Category</th>\n",
       "      <th>Gender</th>\n",
       "      <th>comment react number</th>\n",
       "      <th>label</th>\n",
       "    </tr>\n",
       "  </thead>\n",
       "  <tbody>\n",
       "    <tr>\n",
       "      <th>0</th>\n",
       "      <td>ওই হালার পুত এখন কি মদ খাওয়ার সময় রাতের বেলা...</td>\n",
       "      <td>Actor</td>\n",
       "      <td>Female</td>\n",
       "      <td>1.0</td>\n",
       "      <td>sexual</td>\n",
       "    </tr>\n",
       "    <tr>\n",
       "      <th>1</th>\n",
       "      <td>ঘরে বসে শুট করতে কেমন লেগেছে? ক্যামেরাতে কে ছি...</td>\n",
       "      <td>Singer</td>\n",
       "      <td>Male</td>\n",
       "      <td>2.0</td>\n",
       "      <td>not bully</td>\n",
       "    </tr>\n",
       "    <tr>\n",
       "      <th>2</th>\n",
       "      <td>অরে বাবা, এই টা কোন পাগল????</td>\n",
       "      <td>Actor</td>\n",
       "      <td>Female</td>\n",
       "      <td>2.0</td>\n",
       "      <td>not bully</td>\n",
       "    </tr>\n",
       "    <tr>\n",
       "      <th>3</th>\n",
       "      <td>ক্যাপ্টেন অফ বাংলাদেশ</td>\n",
       "      <td>Sports</td>\n",
       "      <td>Male</td>\n",
       "      <td>0.0</td>\n",
       "      <td>not bully</td>\n",
       "    </tr>\n",
       "    <tr>\n",
       "      <th>4</th>\n",
       "      <td>পটকা মাছ</td>\n",
       "      <td>Politician</td>\n",
       "      <td>Male</td>\n",
       "      <td>0.0</td>\n",
       "      <td>troll</td>\n",
       "    </tr>\n",
       "  </tbody>\n",
       "</table>\n",
       "</div>"
      ],
      "text/plain": [
       "                                             comment    Category  Gender  \\\n",
       "0  ওই হালার পুত এখন কি মদ খাওয়ার সময় রাতের বেলা...       Actor  Female   \n",
       "1  ঘরে বসে শুট করতে কেমন লেগেছে? ক্যামেরাতে কে ছি...      Singer    Male   \n",
       "2                       অরে বাবা, এই টা কোন পাগল????       Actor  Female   \n",
       "3                              ক্যাপ্টেন অফ বাংলাদেশ      Sports    Male   \n",
       "4                                           পটকা মাছ  Politician    Male   \n",
       "\n",
       "   comment react number      label  \n",
       "0                   1.0     sexual  \n",
       "1                   2.0  not bully  \n",
       "2                   2.0  not bully  \n",
       "3                   0.0  not bully  \n",
       "4                   0.0      troll  "
      ]
     },
     "execution_count": 5,
     "metadata": {},
     "output_type": "execute_result"
    }
   ],
   "source": [
    "df = pd.read_excel('dataset/multi class bangla social media comment.xlsx')\n",
    "df.to_csv('dataset/multi_class_bangla_social_media_comment.csv', encoding='utf-8', index=False)\n",
    "df.head()"
   ]
  },
  {
   "cell_type": "code",
   "execution_count": null,
   "id": "abstract-diving",
   "metadata": {},
   "outputs": [],
   "source": []
  }
 ],
 "metadata": {
  "kernelspec": {
   "display_name": "Python 3",
   "language": "python",
   "name": "python3"
  },
  "language_info": {
   "codemirror_mode": {
    "name": "ipython",
    "version": 3
   },
   "file_extension": ".py",
   "mimetype": "text/x-python",
   "name": "python",
   "nbconvert_exporter": "python",
   "pygments_lexer": "ipython3",
   "version": "3.7.8"
  }
 },
 "nbformat": 4,
 "nbformat_minor": 5
}
