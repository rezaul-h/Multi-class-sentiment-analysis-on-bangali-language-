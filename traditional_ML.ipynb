{
  "nbformat": 4,
  "nbformat_minor": 0,
  "metadata": {
    "colab": {
      "name": "traditional ML.ipynb",
      "provenance": []
    },
    "kernelspec": {
      "name": "python3",
      "display_name": "Python 3"
    },
    "language_info": {
      "name": "python"
    }
  },
  "cells": [
    {
      "cell_type": "code",
      "metadata": {
        "colab": {
          "base_uri": "https://localhost:8080/"
        },
        "id": "B8Jn17v0GF58",
        "outputId": "07853ab6-3042-40d5-bbb7-ab8e23ca0bbb"
      },
      "source": [
        "#As we dont have any GPU we will be using google collab for GPU usage\n",
        "#Mout at drive \n",
        "import sys\n",
        "from google.colab import drive\n",
        "from pathlib import Path\n",
        "drive.mount(\"/content/drive\", force_remount=True)"
      ],
      "execution_count": null,
      "outputs": [
        {
          "output_type": "stream",
          "text": [
            "Mounted at /content/drive\n"
          ],
          "name": "stdout"
        }
      ]
    },
    {
      "cell_type": "code",
      "metadata": {
        "colab": {
          "base_uri": "https://localhost:8080/",
          "height": 35
        },
        "id": "acOnKQ-PHc9F",
        "outputId": "d12c347f-320b-4bc9-edbc-532ad1b739c5"
      },
      "source": [
        "import tensorflow as tf\n",
        "tf.test.gpu_device_name()"
      ],
      "execution_count": null,
      "outputs": [
        {
          "output_type": "execute_result",
          "data": {
            "application/vnd.google.colaboratory.intrinsic+json": {
              "type": "string"
            },
            "text/plain": [
              "''"
            ]
          },
          "metadata": {
            "tags": []
          },
          "execution_count": 2
        }
      ]
    },
    {
      "cell_type": "code",
      "metadata": {
        "id": "_E3SrxT0GqK6"
      },
      "source": [
        "#import packages\n",
        "\n",
        "import matplotlib.pyplot as plt\n",
        "from sklearn.model_selection import train_test_split\n",
        "import seaborn as sn\n",
        "%matplotlib inline\n",
        "import re\n",
        "import sys\n",
        "import warnings\n",
        "import pandas as pd\n",
        "import numpy as np\n",
        "from nltk.stem.porter import PorterStemmer\n",
        "from nltk.stem import WordNetLemmatizer\n",
        "import matplotlib.pyplot as plt\n",
        "from gensim.models import Word2Vec\n",
        "from sklearn.linear_model import SGDClassifier\n",
        "from sklearn.tree import DecisionTreeClassifier\n",
        "from sklearn.model_selection import StratifiedKFold\n",
        "from sklearn.model_selection import train_test_split\n",
        "from sklearn.feature_extraction.text import TfidfVectorizer,CountVectorizer\n",
        "from sklearn.naive_bayes import MultinomialNB\n",
        "from sklearn.multiclass import OneVsRestClassifier\n",
        "from nltk.corpus import stopwords\n",
        "from nltk import pos_tag\n",
        "from nltk.corpus import wordnet\n",
        "from sklearn.metrics import accuracy_score\n",
        "from sklearn.svm import LinearSVC\n",
        "from sklearn.metrics import classification_report\n",
        "from sklearn.linear_model import LogisticRegression\n",
        "from sklearn.pipeline import Pipeline\n",
        "warnings.filterwarnings(\"ignore\")"
      ],
      "execution_count": null,
      "outputs": []
    },
    {
      "cell_type": "code",
      "metadata": {
        "colab": {
          "base_uri": "https://localhost:8080/",
          "height": 204
        },
        "id": "AN2dQxGcGNkb",
        "outputId": "08cca9e5-2708-467f-e0c2-d3a83f277732"
      },
      "source": [
        "df=pd.read_csv('/content/drive/MyDrive/Colab Notebooks/multi class bangla sentiment analysis/dataset/bangla_comments_tokenized.csv')\n",
        "df.tail()\n"
      ],
      "execution_count": null,
      "outputs": [
        {
          "output_type": "execute_result",
          "data": {
            "text/html": [
              "<div>\n",
              "<style scoped>\n",
              "    .dataframe tbody tr th:only-of-type {\n",
              "        vertical-align: middle;\n",
              "    }\n",
              "\n",
              "    .dataframe tbody tr th {\n",
              "        vertical-align: top;\n",
              "    }\n",
              "\n",
              "    .dataframe thead th {\n",
              "        text-align: right;\n",
              "    }\n",
              "</style>\n",
              "<table border=\"1\" class=\"dataframe\">\n",
              "  <thead>\n",
              "    <tr style=\"text-align: right;\">\n",
              "      <th></th>\n",
              "      <th>Category</th>\n",
              "      <th>Gender</th>\n",
              "      <th>label</th>\n",
              "      <th>text</th>\n",
              "      <th>stem_text_list</th>\n",
              "    </tr>\n",
              "  </thead>\n",
              "  <tbody>\n",
              "    <tr>\n",
              "      <th>43996</th>\n",
              "      <td>Social</td>\n",
              "      <td>Male</td>\n",
              "      <td>not bully</td>\n",
              "      <td>হিরো আলম এগা যাও</td>\n",
              "      <td>['হিরো', 'আলম', 'এগা', 'যাও']</td>\n",
              "    </tr>\n",
              "    <tr>\n",
              "      <th>43997</th>\n",
              "      <td>Social</td>\n",
              "      <td>Male</td>\n",
              "      <td>not bully</td>\n",
              "      <td>হিরো আলম সাপোর্ট অসংখ্য ধন্যবাদ আপনা</td>\n",
              "      <td>['হিরো', 'আলম', 'সাপোর্ট', 'অসংখ্য', 'ধন্যবাদ'...</td>\n",
              "    </tr>\n",
              "    <tr>\n",
              "      <th>43998</th>\n",
              "      <td>Social</td>\n",
              "      <td>Male</td>\n",
              "      <td>not bully</td>\n",
              "      <td>হিরো ভাই এগা য়াও</td>\n",
              "      <td>['হিরো', 'ভাই', 'এগা', 'য়াও']</td>\n",
              "    </tr>\n",
              "    <tr>\n",
              "      <th>43999</th>\n",
              "      <td>Actor</td>\n",
              "      <td>Female</td>\n",
              "      <td>not bully</td>\n",
              "      <td>হুম ভাও তোমরা এগা যাও তোমা পিছনে আছি</td>\n",
              "      <td>['হুম', 'ভাও', 'তোমরা', 'এগা', 'যাও', 'তোমা', ...</td>\n",
              "    </tr>\n",
              "    <tr>\n",
              "      <th>44000</th>\n",
              "      <td>Social</td>\n",
              "      <td>Male</td>\n",
              "      <td>not bully</td>\n",
              "      <td>হ্যালো তোমা সাথে আমা চ্যাট করবে</td>\n",
              "      <td>['হ্যালো', 'তোমা', 'সাথে', 'আমা', 'চ্যাট', 'কর...</td>\n",
              "    </tr>\n",
              "  </tbody>\n",
              "</table>\n",
              "</div>"
            ],
            "text/plain": [
              "      Category  ...                                     stem_text_list\n",
              "43996   Social  ...                      ['হিরো', 'আলম', 'এগা', 'যাও']\n",
              "43997   Social  ...  ['হিরো', 'আলম', 'সাপোর্ট', 'অসংখ্য', 'ধন্যবাদ'...\n",
              "43998   Social  ...                      ['হিরো', 'ভাই', 'এগা', 'য়াও']\n",
              "43999    Actor  ...  ['হুম', 'ভাও', 'তোমরা', 'এগা', 'যাও', 'তোমা', ...\n",
              "44000   Social  ...  ['হ্যালো', 'তোমা', 'সাথে', 'আমা', 'চ্যাট', 'কর...\n",
              "\n",
              "[5 rows x 5 columns]"
            ]
          },
          "metadata": {
            "tags": []
          },
          "execution_count": 4
        }
      ]
    },
    {
      "cell_type": "code",
      "metadata": {
        "colab": {
          "base_uri": "https://localhost:8080/",
          "height": 204
        },
        "id": "Y8DT5-ceU_ou",
        "outputId": "5b041cff-e44a-4e64-8fb4-542fc768d459"
      },
      "source": [
        "df['label'] = df['label'].replace({'not bully':'acceptable'})\n",
        "df.head()"
      ],
      "execution_count": null,
      "outputs": [
        {
          "output_type": "execute_result",
          "data": {
            "text/html": [
              "<div>\n",
              "<style scoped>\n",
              "    .dataframe tbody tr th:only-of-type {\n",
              "        vertical-align: middle;\n",
              "    }\n",
              "\n",
              "    .dataframe tbody tr th {\n",
              "        vertical-align: top;\n",
              "    }\n",
              "\n",
              "    .dataframe thead th {\n",
              "        text-align: right;\n",
              "    }\n",
              "</style>\n",
              "<table border=\"1\" class=\"dataframe\">\n",
              "  <thead>\n",
              "    <tr style=\"text-align: right;\">\n",
              "      <th></th>\n",
              "      <th>Category</th>\n",
              "      <th>Gender</th>\n",
              "      <th>label</th>\n",
              "      <th>text</th>\n",
              "      <th>stem_text_list</th>\n",
              "    </tr>\n",
              "  </thead>\n",
              "  <tbody>\n",
              "    <tr>\n",
              "      <th>0</th>\n",
              "      <td>Actor</td>\n",
              "      <td>Female</td>\n",
              "      <td>sexual</td>\n",
              "      <td>হালা পুত মদ খাওয় সময় রাত বেলা মদ খাই দিন বেল...</td>\n",
              "      <td>['হালা', 'পুত', 'মদ', 'খাওয়', 'সময়', 'রাত', ...</td>\n",
              "    </tr>\n",
              "    <tr>\n",
              "      <th>1</th>\n",
              "      <td>Singer</td>\n",
              "      <td>Male</td>\n",
              "      <td>acceptable</td>\n",
              "      <td>ঘরে শুট কেমন ক্যামেরা ছিল</td>\n",
              "      <td>['ঘরে', 'শুট', 'কেমন', 'ক্যামে', 'ছিল']</td>\n",
              "    </tr>\n",
              "    <tr>\n",
              "      <th>2</th>\n",
              "      <td>Actor</td>\n",
              "      <td>Female</td>\n",
              "      <td>acceptable</td>\n",
              "      <td>অরে বাবা পাগল</td>\n",
              "      <td>['অরে', 'বাবা', 'পাগল']</td>\n",
              "    </tr>\n",
              "    <tr>\n",
              "      <th>3</th>\n",
              "      <td>Sports</td>\n",
              "      <td>Male</td>\n",
              "      <td>acceptable</td>\n",
              "      <td>ক্যাপ্ট অফ বাংলাদেশ</td>\n",
              "      <td>['ক্যাপ্ট', 'অফ', 'বাংলাদেশ']</td>\n",
              "    </tr>\n",
              "    <tr>\n",
              "      <th>4</th>\n",
              "      <td>Politician</td>\n",
              "      <td>Male</td>\n",
              "      <td>troll</td>\n",
              "      <td>পটকা মাছ</td>\n",
              "      <td>['পটকা', 'মাছ']</td>\n",
              "    </tr>\n",
              "  </tbody>\n",
              "</table>\n",
              "</div>"
            ],
            "text/plain": [
              "     Category  ...                                     stem_text_list\n",
              "0       Actor  ...  ['হালা', 'পুত', 'মদ', 'খাওয়', 'সময়', 'রাত', ...\n",
              "1      Singer  ...            ['ঘরে', 'শুট', 'কেমন', 'ক্যামে', 'ছিল']\n",
              "2       Actor  ...                            ['অরে', 'বাবা', 'পাগল']\n",
              "3      Sports  ...                      ['ক্যাপ্ট', 'অফ', 'বাংলাদেশ']\n",
              "4  Politician  ...                                    ['পটকা', 'মাছ']\n",
              "\n",
              "[5 rows x 5 columns]"
            ]
          },
          "metadata": {
            "tags": []
          },
          "execution_count": 5
        }
      ]
    },
    {
      "cell_type": "code",
      "metadata": {
        "id": "6G_qv2JVGumC"
      },
      "source": [
        "#categorical Columns OneHotEncoder\n",
        "from sklearn.base import TransformerMixin,BaseEstimator\n",
        "from sklearn.preprocessing import OneHotEncoder\n",
        "class My_encoder(BaseEstimator, TransformerMixin):\n",
        "   \n",
        "    def __init__(self,drop = 'first',sparse=False):\n",
        "        self.encoder = OneHotEncoder(drop = drop,sparse = sparse)\n",
        "        self.features_to_encode = []\n",
        "        self.columns = []\n",
        "    \n",
        "    def fit(self,X_train,features_to_encode):\n",
        "        \n",
        "        data = X_train.copy()\n",
        "        self.features_to_encode = features_to_encode\n",
        "        data_to_encode = data[self.features_to_encode]\n",
        "        self.columns = pd.get_dummies(data_to_encode,drop_first = True).columns\n",
        "        self.encoder.fit(data_to_encode)\n",
        "        return self.encoder\n",
        "    \n",
        "    def transform(self,X_test):\n",
        "        \n",
        "        data = X_test.copy()\n",
        "        data.reset_index(drop = True,inplace =True)\n",
        "        data_to_encode = data[self.features_to_encode]\n",
        "        data_left = data.drop(self.features_to_encode,axis = 1)\n",
        "        data_encoded = pd.DataFrame(self.encoder.transform(data_to_encode),columns = self.columns)\n",
        "        \n",
        "        return pd.concat([data_left,data_encoded],axis = 1)"
      ],
      "execution_count": null,
      "outputs": []
    },
    {
      "cell_type": "code",
      "metadata": {
        "colab": {
          "base_uri": "https://localhost:8080/",
          "height": 428
        },
        "id": "8y_V2KVhUKRg",
        "outputId": "00b2093a-46b5-4125-eadf-b90af8e0d8c9"
      },
      "source": [
        "#perform encoding\n",
        "features_to_encode = ['Category','Gender']\n",
        "#numerical_features=df.drop(features_to_encode,axis=1)\n",
        "enc = My_encoder()\n",
        "enc.fit(df,features_to_encode)\n",
        "df = enc.transform(df)\n",
        "df.head()"
      ],
      "execution_count": null,
      "outputs": [
        {
          "output_type": "execute_result",
          "data": {
            "text/html": [
              "<div>\n",
              "<style scoped>\n",
              "    .dataframe tbody tr th:only-of-type {\n",
              "        vertical-align: middle;\n",
              "    }\n",
              "\n",
              "    .dataframe tbody tr th {\n",
              "        vertical-align: top;\n",
              "    }\n",
              "\n",
              "    .dataframe thead th {\n",
              "        text-align: right;\n",
              "    }\n",
              "</style>\n",
              "<table border=\"1\" class=\"dataframe\">\n",
              "  <thead>\n",
              "    <tr style=\"text-align: right;\">\n",
              "      <th></th>\n",
              "      <th>label</th>\n",
              "      <th>text</th>\n",
              "      <th>stem_text_list</th>\n",
              "      <th>Category_Politician</th>\n",
              "      <th>Category_Singer</th>\n",
              "      <th>Category_Social</th>\n",
              "      <th>Category_Sports</th>\n",
              "      <th>Gender_Male</th>\n",
              "    </tr>\n",
              "  </thead>\n",
              "  <tbody>\n",
              "    <tr>\n",
              "      <th>0</th>\n",
              "      <td>sexual</td>\n",
              "      <td>হালা পুত মদ খাওয় সময় রাত বেলা মদ খাই দিন বেল...</td>\n",
              "      <td>['হালা', 'পুত', 'মদ', 'খাওয়', 'সময়', 'রাত', ...</td>\n",
              "      <td>0.0</td>\n",
              "      <td>0.0</td>\n",
              "      <td>0.0</td>\n",
              "      <td>0.0</td>\n",
              "      <td>0.0</td>\n",
              "    </tr>\n",
              "    <tr>\n",
              "      <th>1</th>\n",
              "      <td>acceptable</td>\n",
              "      <td>ঘরে শুট কেমন ক্যামেরা ছিল</td>\n",
              "      <td>['ঘরে', 'শুট', 'কেমন', 'ক্যামে', 'ছিল']</td>\n",
              "      <td>0.0</td>\n",
              "      <td>1.0</td>\n",
              "      <td>0.0</td>\n",
              "      <td>0.0</td>\n",
              "      <td>1.0</td>\n",
              "    </tr>\n",
              "    <tr>\n",
              "      <th>2</th>\n",
              "      <td>acceptable</td>\n",
              "      <td>অরে বাবা পাগল</td>\n",
              "      <td>['অরে', 'বাবা', 'পাগল']</td>\n",
              "      <td>0.0</td>\n",
              "      <td>0.0</td>\n",
              "      <td>0.0</td>\n",
              "      <td>0.0</td>\n",
              "      <td>0.0</td>\n",
              "    </tr>\n",
              "    <tr>\n",
              "      <th>3</th>\n",
              "      <td>acceptable</td>\n",
              "      <td>ক্যাপ্ট অফ বাংলাদেশ</td>\n",
              "      <td>['ক্যাপ্ট', 'অফ', 'বাংলাদেশ']</td>\n",
              "      <td>0.0</td>\n",
              "      <td>0.0</td>\n",
              "      <td>0.0</td>\n",
              "      <td>1.0</td>\n",
              "      <td>1.0</td>\n",
              "    </tr>\n",
              "    <tr>\n",
              "      <th>4</th>\n",
              "      <td>troll</td>\n",
              "      <td>পটকা মাছ</td>\n",
              "      <td>['পটকা', 'মাছ']</td>\n",
              "      <td>1.0</td>\n",
              "      <td>0.0</td>\n",
              "      <td>0.0</td>\n",
              "      <td>0.0</td>\n",
              "      <td>1.0</td>\n",
              "    </tr>\n",
              "  </tbody>\n",
              "</table>\n",
              "</div>"
            ],
            "text/plain": [
              "        label  ... Gender_Male\n",
              "0      sexual  ...         0.0\n",
              "1  acceptable  ...         1.0\n",
              "2  acceptable  ...         0.0\n",
              "3  acceptable  ...         1.0\n",
              "4       troll  ...         1.0\n",
              "\n",
              "[5 rows x 8 columns]"
            ]
          },
          "metadata": {
            "tags": []
          },
          "execution_count": 7
        }
      ]
    },
    {
      "cell_type": "code",
      "metadata": {
        "colab": {
          "base_uri": "https://localhost:8080/",
          "height": 428
        },
        "id": "AqwvC_kLUfFS",
        "outputId": "bdf584c0-7e07-44a6-ab75-5019abfd6b0e"
      },
      "source": [
        "#fill na values with zero\n",
        "df = df.fillna(0)\n",
        "df.head()"
      ],
      "execution_count": null,
      "outputs": [
        {
          "output_type": "execute_result",
          "data": {
            "text/html": [
              "<div>\n",
              "<style scoped>\n",
              "    .dataframe tbody tr th:only-of-type {\n",
              "        vertical-align: middle;\n",
              "    }\n",
              "\n",
              "    .dataframe tbody tr th {\n",
              "        vertical-align: top;\n",
              "    }\n",
              "\n",
              "    .dataframe thead th {\n",
              "        text-align: right;\n",
              "    }\n",
              "</style>\n",
              "<table border=\"1\" class=\"dataframe\">\n",
              "  <thead>\n",
              "    <tr style=\"text-align: right;\">\n",
              "      <th></th>\n",
              "      <th>label</th>\n",
              "      <th>text</th>\n",
              "      <th>stem_text_list</th>\n",
              "      <th>Category_Politician</th>\n",
              "      <th>Category_Singer</th>\n",
              "      <th>Category_Social</th>\n",
              "      <th>Category_Sports</th>\n",
              "      <th>Gender_Male</th>\n",
              "    </tr>\n",
              "  </thead>\n",
              "  <tbody>\n",
              "    <tr>\n",
              "      <th>0</th>\n",
              "      <td>sexual</td>\n",
              "      <td>হালা পুত মদ খাওয় সময় রাত বেলা মদ খাই দিন বেল...</td>\n",
              "      <td>['হালা', 'পুত', 'মদ', 'খাওয়', 'সময়', 'রাত', ...</td>\n",
              "      <td>0.0</td>\n",
              "      <td>0.0</td>\n",
              "      <td>0.0</td>\n",
              "      <td>0.0</td>\n",
              "      <td>0.0</td>\n",
              "    </tr>\n",
              "    <tr>\n",
              "      <th>1</th>\n",
              "      <td>acceptable</td>\n",
              "      <td>ঘরে শুট কেমন ক্যামেরা ছিল</td>\n",
              "      <td>['ঘরে', 'শুট', 'কেমন', 'ক্যামে', 'ছিল']</td>\n",
              "      <td>0.0</td>\n",
              "      <td>1.0</td>\n",
              "      <td>0.0</td>\n",
              "      <td>0.0</td>\n",
              "      <td>1.0</td>\n",
              "    </tr>\n",
              "    <tr>\n",
              "      <th>2</th>\n",
              "      <td>acceptable</td>\n",
              "      <td>অরে বাবা পাগল</td>\n",
              "      <td>['অরে', 'বাবা', 'পাগল']</td>\n",
              "      <td>0.0</td>\n",
              "      <td>0.0</td>\n",
              "      <td>0.0</td>\n",
              "      <td>0.0</td>\n",
              "      <td>0.0</td>\n",
              "    </tr>\n",
              "    <tr>\n",
              "      <th>3</th>\n",
              "      <td>acceptable</td>\n",
              "      <td>ক্যাপ্ট অফ বাংলাদেশ</td>\n",
              "      <td>['ক্যাপ্ট', 'অফ', 'বাংলাদেশ']</td>\n",
              "      <td>0.0</td>\n",
              "      <td>0.0</td>\n",
              "      <td>0.0</td>\n",
              "      <td>1.0</td>\n",
              "      <td>1.0</td>\n",
              "    </tr>\n",
              "    <tr>\n",
              "      <th>4</th>\n",
              "      <td>troll</td>\n",
              "      <td>পটকা মাছ</td>\n",
              "      <td>['পটকা', 'মাছ']</td>\n",
              "      <td>1.0</td>\n",
              "      <td>0.0</td>\n",
              "      <td>0.0</td>\n",
              "      <td>0.0</td>\n",
              "      <td>1.0</td>\n",
              "    </tr>\n",
              "  </tbody>\n",
              "</table>\n",
              "</div>"
            ],
            "text/plain": [
              "        label  ... Gender_Male\n",
              "0      sexual  ...         0.0\n",
              "1  acceptable  ...         1.0\n",
              "2  acceptable  ...         0.0\n",
              "3  acceptable  ...         1.0\n",
              "4       troll  ...         1.0\n",
              "\n",
              "[5 rows x 8 columns]"
            ]
          },
          "metadata": {
            "tags": []
          },
          "execution_count": 8
        }
      ]
    },
    {
      "cell_type": "code",
      "metadata": {
        "colab": {
          "base_uri": "https://localhost:8080/"
        },
        "id": "hUBoLyirYIsS",
        "outputId": "489d4d67-9ef1-44a2-9e43-70c5ac51e78b"
      },
      "source": [
        "#divide the model for trainning and testing\n",
        "df.text=df.text.apply(str)\n",
        "X = df.text\n",
        "y = df.label\n",
        "categories = ['label_sexual','label_religious','label_troll','label_threat','label_acceptable']  #targeted labels\n",
        "\n",
        "X_train, X_test, y_train, y_test = train_test_split(X, y, test_size=0.3, random_state = 42)\n",
        "\n",
        "#checking...\n",
        "print(X_train.shape)\n",
        "print(X_test.shape)\n",
        "print(y_train.shape)\n",
        "print(y_test.shape)\n"
      ],
      "execution_count": null,
      "outputs": [
        {
          "output_type": "stream",
          "text": [
            "(30800,)\n",
            "(13201,)\n",
            "(30800,)\n",
            "(13201,)\n"
          ],
          "name": "stdout"
        }
      ]
    },
    {
      "cell_type": "markdown",
      "metadata": {
        "id": "Dbl5yZBCAub2"
      },
      "source": [
        "**MultinomialNB model with Tfidf using pipeline**"
      ]
    },
    {
      "cell_type": "code",
      "metadata": {
        "colab": {
          "base_uri": "https://localhost:8080/"
        },
        "id": "HVLSSmKxbOs3",
        "outputId": "6b71bbc0-91ec-4dde-aeb9-c0a4fef00544"
      },
      "source": [
        "# Define a pipeline combining a text feature extractor with multi lable classifier\n",
        "TFIDF_NB_pipeline = Pipeline([\n",
        "\n",
        "                ('tfidf', TfidfVectorizer(tokenizer=lambda x: x.split(),lowercase=False,max_features=6000,min_df=5,ngram_range=(1,2))),\n",
        "                ('clf', OneVsRestClassifier(MultinomialNB(\n",
        "                    fit_prior=True, class_prior=None))),\n",
        "            ])\n",
        "\n",
        "TFIDF_NB_pipeline.fit(X_train, y_train)\n",
        "prediction = TFIDF_NB_pipeline.predict(X_test)\n",
        "\n",
        "print('accuracy %s' % accuracy_score(prediction, y_test))\n",
        "print(classification_report(y_test, prediction, target_names=categories))\n"
      ],
      "execution_count": null,
      "outputs": [
        {
          "output_type": "stream",
          "text": [
            "accuracy 0.7527460040905992\n",
            "                  precision    recall  f1-score   support\n",
            "\n",
            "    label_sexual       0.76      0.88      0.81      4580\n",
            " label_religious       0.74      0.82      0.78      2204\n",
            "     label_troll       0.77      0.67      0.72      2682\n",
            "    label_threat       0.88      0.45      0.59       491\n",
            "label_acceptable       0.72      0.64      0.68      3244\n",
            "\n",
            "        accuracy                           0.75     13201\n",
            "       macro avg       0.78      0.69      0.72     13201\n",
            "    weighted avg       0.75      0.75      0.75     13201\n",
            "\n"
          ],
          "name": "stdout"
        }
      ]
    },
    {
      "cell_type": "markdown",
      "metadata": {
        "id": "kzQnBKvDDBfk"
      },
      "source": [
        "**SGDclassifier model with TFIDF using pipeline**"
      ]
    },
    {
      "cell_type": "code",
      "metadata": {
        "colab": {
          "base_uri": "https://localhost:8080/"
        },
        "id": "9Ywf6bd0bv08",
        "outputId": "98bc6298-c11f-45a7-fb06-595446b438cf"
      },
      "source": [
        "\n",
        "TFIDF_SGD_pipeline = Pipeline([\n",
        "                               \n",
        "                ('tfidf', TfidfVectorizer(tokenizer=lambda x: x.split(),lowercase=False,max_features=6000,min_df=5,ngram_range=(1,2))),\n",
        "                ('clf', OneVsRestClassifier(SGDClassifier(loss='hinge', penalty='l2', alpha=1e-4, random_state=42, max_iter=90, tol=None)))\n",
        "            ])\n",
        "\n",
        "\n",
        "TFIDF_SGD_pipeline.fit(X_train, y_train)\n",
        "prediction = TFIDF_SGD_pipeline.predict(X_test)\n",
        "\n",
        "print('accuracy %s' % accuracy_score(prediction, y_test))\n",
        "print(classification_report(y_test, prediction, target_names=categories))\n"
      ],
      "execution_count": null,
      "outputs": [
        {
          "output_type": "stream",
          "text": [
            "accuracy 0.7996363911824862\n",
            "                  precision    recall  f1-score   support\n",
            "\n",
            "    label_sexual       0.74      0.93      0.82      4580\n",
            " label_religious       0.92      0.86      0.89      2204\n",
            "     label_troll       0.84      0.73      0.78      2682\n",
            "    label_threat       0.86      0.58      0.70       491\n",
            "label_acceptable       0.79      0.67      0.72      3244\n",
            "\n",
            "        accuracy                           0.80     13201\n",
            "       macro avg       0.83      0.75      0.78     13201\n",
            "    weighted avg       0.81      0.80      0.80     13201\n",
            "\n"
          ],
          "name": "stdout"
        }
      ]
    },
    {
      "cell_type": "markdown",
      "metadata": {
        "id": "wGiok4a-DPke"
      },
      "source": [
        "**Logistic Regression model with TFIDF using pipeline**"
      ]
    },
    {
      "cell_type": "code",
      "metadata": {
        "colab": {
          "base_uri": "https://localhost:8080/"
        },
        "id": "vU8-dKYJiEJ-",
        "outputId": "880eb840-5a70-4713-8b70-a3e15f4cf5f3"
      },
      "source": [
        "TFIDF_LR_pipeline = Pipeline([\n",
        "\n",
        "                ('tfidf', TfidfVectorizer(tokenizer=lambda x: x.split(),lowercase=False,max_features=6000,min_df=5,ngram_range=(1,2))),\n",
        "                ('clf', OneVsRestClassifier(LogisticRegression(C=0.7,random_state=42,tol=0.0001,max_iter=200)))\n",
        "            ])\n",
        "\n",
        "TFIDF_LR_pipeline.fit(X_train, y_train)\n",
        "prediction = TFIDF_LR_pipeline.predict(X_test)\n",
        "\n",
        "print('accuracy %s' % accuracy_score(prediction, y_test))\n",
        "print(classification_report(y_test, prediction, target_names=categories))\n",
        "\n"
      ],
      "execution_count": null,
      "outputs": [
        {
          "output_type": "stream",
          "text": [
            "accuracy 0.7875160972653586\n",
            "                  precision    recall  f1-score   support\n",
            "\n",
            "    label_sexual       0.74      0.92      0.82      4580\n",
            " label_religious       0.91      0.84      0.87      2204\n",
            "     label_troll       0.83      0.71      0.77      2682\n",
            "    label_threat       0.87      0.49      0.62       491\n",
            "label_acceptable       0.75      0.68      0.71      3244\n",
            "\n",
            "        accuracy                           0.79     13201\n",
            "       macro avg       0.82      0.73      0.76     13201\n",
            "    weighted avg       0.79      0.79      0.78     13201\n",
            "\n"
          ],
          "name": "stdout"
        }
      ]
    },
    {
      "cell_type": "markdown",
      "metadata": {
        "id": "oCVihTBkDYge"
      },
      "source": [
        "**RandomforrestClassifier model with TFIDF using pipeline**"
      ]
    },
    {
      "cell_type": "code",
      "metadata": {
        "colab": {
          "base_uri": "https://localhost:8080/"
        },
        "id": "Z-60fm1ipxBJ",
        "outputId": "2726d0fc-e083-4a40-8b23-35be5e61fe87"
      },
      "source": [
        "from sklearn.ensemble import RandomForestClassifier\n",
        "TFIDF_DT_pipeline = Pipeline([\n",
        "                ('tfidf', TfidfVectorizer(tokenizer=lambda x: x.split(),lowercase=False,max_features=6000,min_df=5,ngram_range=(1,2))),\n",
        "                ('clf', OneVsRestClassifier(RandomForestClassifier(n_estimators=200)))\n",
        "            ])\n",
        "\n",
        "\n",
        "TFIDF_DT_pipeline.fit(X_train, y_train)\n",
        "prediction = TFIDF_DT_pipeline.predict(X_test)\n",
        "\n",
        "print('accuracy %s' % accuracy_score(prediction, y_test))\n",
        "print(classification_report(y_test, prediction, target_names=categories))\n",
        "\n",
        "\n"
      ],
      "execution_count": null,
      "outputs": [
        {
          "output_type": "stream",
          "text": [
            "accuracy 0.8034997348685705\n",
            "                  precision    recall  f1-score   support\n",
            "\n",
            "    label_sexual       0.77      0.89      0.83      4580\n",
            " label_religious       0.90      0.88      0.89      2204\n",
            "     label_troll       0.83      0.75      0.79      2682\n",
            "    label_threat       0.81      0.65      0.72       491\n",
            "label_acceptable       0.76      0.70      0.73      3244\n",
            "\n",
            "        accuracy                           0.80     13201\n",
            "       macro avg       0.81      0.77      0.79     13201\n",
            "    weighted avg       0.81      0.80      0.80     13201\n",
            "\n"
          ],
          "name": "stdout"
        }
      ]
    },
    {
      "cell_type": "code",
      "metadata": {
        "id": "MBOjqzeoqFAQ"
      },
      "source": [
        ""
      ],
      "execution_count": null,
      "outputs": []
    }
  ]
}